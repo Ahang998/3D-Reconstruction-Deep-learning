{
 "cells": [
  {
   "cell_type": "code",
   "execution_count": 1,
   "metadata": {},
   "outputs": [
    {
     "name": "stdout",
     "output_type": "stream",
     "text": [
      "a = [0 1 2 3 4 5 6 7 8 9]\n",
      "打乱后a = [6 3 8 5 7 9 2 4 0 1]\n",
      "b = [9 8 7 6 5 4 3 2 1 0]\n"
     ]
    }
   ],
   "source": [
    "# 排序\n",
    "import random\n",
    "import torch\n",
    "import numpy\n",
    "\n",
    "a = numpy.arange(0,10) # a取0-9\n",
    "print(f'a = {a}')\n",
    "b = numpy.zeros_like(a) # b初始化为和a相同形状的全0行\n",
    "numpy.random.shuffle(a) # 打乱a顺序\n",
    "print(f'打乱后a = {a}')\n",
    "i = 1\n",
    "for i in range (10):\n",
    "    for j in range(i,10):\n",
    "        \n",
    "        if b[i] > a[j] : # 挨个比较\n",
    "            continue\n",
    "        else :\n",
    "            c = a[j]\n",
    "            a[j] = b[i]\n",
    "            b[i] = c\n",
    "print(f'b = {b}')\n"
   ]
  },
  {
   "cell_type": "code",
   "execution_count": 2,
   "metadata": {},
   "outputs": [
    {
     "name": "stdout",
     "output_type": "stream",
     "text": [
      "1*1=1\t\n",
      "\n",
      "1*2=2\t2*2=4\t\n",
      "\n",
      "1*3=3\t2*3=6\t3*3=9\t\n",
      "\n",
      "1*4=4\t2*4=8\t3*4=12\t4*4=16\t\n",
      "\n",
      "1*5=5\t2*5=10\t3*5=15\t4*5=20\t5*5=25\t\n",
      "\n",
      "1*6=6\t2*6=12\t3*6=18\t4*6=24\t5*6=30\t6*6=36\t\n",
      "\n",
      "1*7=7\t2*7=14\t3*7=21\t4*7=28\t5*7=35\t6*7=42\t7*7=49\t\n",
      "\n",
      "1*8=8\t2*8=16\t3*8=24\t4*8=32\t5*8=40\t6*8=48\t7*8=56\t8*8=64\t\n",
      "\n",
      "1*9=9\t2*9=18\t3*9=27\t4*9=36\t5*9=45\t6*9=54\t7*9=63\t8*9=72\t9*9=81\t\n",
      "\n"
     ]
    }
   ],
   "source": [
    "# 九九乘法表\n",
    "i = 1\n",
    "while i < 10:\n",
    "    j = 1\n",
    "    while j <= i:\n",
    "        print(f'{j}*{i}={i*j}',end='\\t')\n",
    "        j+=1\n",
    "    i+=1\n",
    "    print('\\n')"
   ]
  },
  {
   "cell_type": "markdown",
   "metadata": {},
   "source": [
    "## 字符串"
   ]
  },
  {
   "cell_type": "markdown",
   "metadata": {},
   "source": [
    "#### 切片"
   ]
  },
  {
   "cell_type": "code",
   "execution_count": 66,
   "metadata": {},
   "outputs": [
    {
     "name": "stdout",
     "output_type": "stream",
     "text": [
      "bcd\n",
      "ce\n",
      "cde\n",
      "cba\n",
      "hgfe\n",
      "efg\n",
      "\n"
     ]
    }
   ],
   "source": [
    "'''\n",
    "语法：序列[ 开始位置下标(不写默认从0开始) ：结束位置下标(不写默认到最后结束) ：步长(不写默认为1) ]\n",
    "注意：左闭右开；下标、步长取正负数均可；从0开始计数\n",
    "'''\n",
    "str1 = 'abcdefgh'\n",
    "print(str1[1:4:1])\n",
    "print(str1[2:5:2])\n",
    "print(str1[2:5])\n",
    "print(str1[2::-1])\n",
    "print(str1[:3:-1])\n",
    "print(str1[-4:-1])\n",
    "print(str1[-1:-4]) # 方向不一样选不出来，除非将步长设置为-1"
   ]
  },
  {
   "cell_type": "markdown",
   "metadata": {},
   "source": [
    "#### 字符串查找"
   ]
  },
  {
   "cell_type": "code",
   "execution_count": 67,
   "metadata": {},
   "outputs": [
    {
     "name": "stdout",
     "output_type": "stream",
     "text": [
      "12 23 -1\n",
      "12 23\n",
      "3 1 0\n",
      "35 23 -1\n",
      "35 23\n"
     ]
    }
   ],
   "source": [
    "mystr = 'hello world and itcast and itheima and Python'\n",
    "\n",
    "# 字符串序列.find(子串，开始位置下标，结束位置下标)：检测子串是否在这个字符串中，在则返回子串的位置下标，不在则返回-1\n",
    "print(mystr.find('and') , mystr.find('and',15,30) , mystr.find('ands',15,30)) # 第12个位置开始 ; 第15-30位置之间寻找 ; 第15-30位置之间寻找不到ands，返回-1\n",
    "\n",
    "# 字符串序列.index()：与find类似，但如果搜索内容不存在，则报错\n",
    "print(mystr.index('and') , mystr.index('and',15,30)) # print(mystr.index('ands',15,30)) # 第15-30位置之间寻找不到ands，报错\n",
    "\n",
    "# 字符串序列.count()：与上述格式相同，但是count返回出现次数，并不返回位置\n",
    "print(mystr.count('and') , mystr.count('and',15,30) , mystr.count('ands',15,30))\n",
    "\n",
    "# 字符串序列.rfind()：从右侧检测，但位置还是按从左往右排，其余功能和find相同\n",
    "print(mystr.rfind('and') , mystr.rfind('and',15,30) , mystr.rfind('ands',15,30))\n",
    "\n",
    "# 字符串序列.rindex()：从右侧检测，但位置还是按从左往右排，其余功能和index相同\n",
    "print(mystr.rindex('and') , mystr.rindex('and',15,30)) # print(mystr.rindex('ands',15,30)) # 第15-30位置之间寻找不到ands，报错\n"
   ]
  },
  {
   "cell_type": "markdown",
   "metadata": {},
   "source": [
    "#### 字符串替换"
   ]
  },
  {
   "cell_type": "code",
   "execution_count": 68,
   "metadata": {},
   "outputs": [
    {
     "name": "stdout",
     "output_type": "stream",
     "text": [
      "hello world and itcast and itheima and Python\n",
      "hello world he itcast he itheima he Python\n",
      "hello world and itcast and itheima and Python\n",
      "hello world he itcast and itheima and Python\n",
      "['hello world ', ' itcast ', ' itheima ', ' Python']\n",
      "['hello world ', ' itcast ', ' itheima and Python']\n",
      "aa...bb...cc\n"
     ]
    }
   ],
   "source": [
    "# 字符串序列.replace(旧子串，新子串，替换次数(不写默认为全部))：不改变原有字符串，说明字符串是不可变数据类型\n",
    "new_str = mystr.replace('and', 'he')\n",
    "print(mystr)\n",
    "print(new_str)\n",
    "new_str = mystr.replace('and', 'he', 1)\n",
    "print(mystr)\n",
    "print(new_str)\n",
    "\n",
    "# 字符串序列.split(分割字符，分割次数(不写默认为全部))：按分割字符进行分割，返回一个列表\n",
    "list1 = mystr.split('and')\n",
    "print(list1)\n",
    "list1 = mystr.split('and', 2)\n",
    "print(list1)\n",
    "\n",
    "# 字符或子串.join(字符串序列)：合并列表里面的字符串数据为一个大字符串，每个字符中间用字符或子串连接\n",
    "mylist = ['aa', 'bb', 'cc']\n",
    "new_str = '...'.join(mylist)\n",
    "print(new_str)"
   ]
  },
  {
   "cell_type": "markdown",
   "metadata": {},
   "source": [
    "#### 大小写转换"
   ]
  },
  {
   "cell_type": "code",
   "execution_count": 69,
   "metadata": {},
   "outputs": [
    {
     "name": "stdout",
     "output_type": "stream",
     "text": [
      "Hello world and itcast and itheima and python\n",
      "Hello World And Itcast And Itheima And Python\n",
      "HELLO WORLD AND ITCAST AND ITHEIMA AND PYTHON\n",
      "hello world and itcast and itheima and python\n"
     ]
    }
   ],
   "source": [
    "mystr = \"hello world and itcast and itheima and Python\"\n",
    "\n",
    "# capitalize()：字符串首字母大写\n",
    "new_str = mystr.capitalize()\n",
    "print(new_str)\n",
    "\n",
    "# title(): 字符串中每个单词首字母大写\n",
    "new_str = mystr.title()\n",
    "print(new_str)\n",
    "\n",
    "# upper()：小写转大写\n",
    "new_str = mystr.upper()\n",
    "print(new_str)\n",
    "\n",
    "# lower(): 大写转小写\n",
    "new_str = mystr.lower()\n",
    "print(new_str)"
   ]
  },
  {
   "cell_type": "markdown",
   "metadata": {},
   "source": [
    "#### 删除空白字符"
   ]
  },
  {
   "cell_type": "code",
   "execution_count": 70,
   "metadata": {},
   "outputs": [
    {
     "name": "stdout",
     "output_type": "stream",
     "text": [
      "   hello world and itcast and itheima and Python   \n",
      "hello world and itcast and itheima and Python   \n",
      "   hello world and itcast and itheima and Python\n",
      "hello world and itcast and itheima and Python\n"
     ]
    }
   ],
   "source": [
    "mystr = \"   hello world and itcast and itheima and Python   \"\n",
    "print(mystr)\n",
    "\n",
    "# lstrip(): 删除左侧空白字符\n",
    "new_str = mystr.lstrip()\n",
    "print(new_str)\n",
    "\n",
    "# rstrip(): 删除右侧空白字符\n",
    "new_str = mystr.rstrip()\n",
    "print(new_str)\n",
    "\n",
    "# strip()：删除两侧空白字符\n",
    "new_str = mystr.strip()\n",
    "print(new_str)"
   ]
  },
  {
   "cell_type": "markdown",
   "metadata": {},
   "source": [
    "#### 字符串判断"
   ]
  },
  {
   "cell_type": "code",
   "execution_count": 71,
   "metadata": {},
   "outputs": [
    {
     "name": "stdout",
     "output_type": "stream",
     "text": [
      "True\n",
      "False\n",
      "True\n",
      "False\n",
      "False\n",
      "False\n",
      "True\n",
      "True\n",
      "False\n",
      "True\n",
      "False\n",
      "True\n"
     ]
    }
   ],
   "source": [
    "mystr = \"hello world and itcast and itheima and Python\"\n",
    "\n",
    "# startswith(): 判断字符串是否以某个子串开头\n",
    "print(mystr.startswith('hel'))\n",
    "print(mystr.startswith('hels'))\n",
    "\n",
    "# endswith(): 判断字符串是否以某个子串结尾\n",
    "print(mystr.endswith('Python'))\n",
    "print(mystr.endswith('Pythons'))\n",
    "\n",
    "# isalpha(): 判断是否都是字母\n",
    "print(mystr.isalpha()) # 空格也不算字母，所以返回的是False\n",
    "\n",
    "# isdigit(): 判断是否都是数字\n",
    "print(mystr.isdigit())\n",
    "mystr1 = '12345'\n",
    "print(mystr1.isdigit())\n",
    "\n",
    "# isalnum() : 判断是否都是数字或字母或组合\n",
    "print(mystr1.isalnum())\n",
    "print(mystr.isalnum())\n",
    "mystr2 = 'abc123'\n",
    "print(mystr2.isalnum())\n",
    "\n",
    "# isspace(): 判断是否都是空白\n",
    "print(mystr.isspace())\n",
    "mystr3 = '   '\n",
    "print(mystr3.isspace())"
   ]
  },
  {
   "cell_type": "markdown",
   "metadata": {},
   "source": [
    "## 列表\n",
    "#### 列表数据是可改的"
   ]
  },
  {
   "cell_type": "markdown",
   "metadata": {},
   "source": [
    "#### 列表查找"
   ]
  },
  {
   "cell_type": "code",
   "execution_count": 72,
   "metadata": {},
   "outputs": [
    {
     "name": "stdout",
     "output_type": "stream",
     "text": [
      "0\n",
      "1\n",
      "0\n",
      "3\n"
     ]
    }
   ],
   "source": [
    "name_list = ['TOM', 'Lily', 'ROSE']\n",
    "\n",
    "# index()，与字符串的index()类似\n",
    "print(name_list.index('TOM'))\n",
    "# print(name_list.index('TOMS')) # 查找不存在的元素会报错\n",
    "\n",
    "# count()，与字符串的count()类似\n",
    "print(name_list.count('TOM'))\n",
    "print(name_list.count('TOMS'))\n",
    "\n",
    "# len()，获取列表长度\n",
    "print(len(name_list))"
   ]
  },
  {
   "cell_type": "markdown",
   "metadata": {},
   "source": [
    "#### 列表判断"
   ]
  },
  {
   "cell_type": "code",
   "execution_count": 73,
   "metadata": {},
   "outputs": [
    {
     "name": "stdout",
     "output_type": "stream",
     "text": [
      "True\n",
      "False\n",
      "False\n",
      "True\n"
     ]
    }
   ],
   "source": [
    "name_list = ['TOM', 'Lily', 'ROSE']\n",
    "\n",
    "# in\n",
    "print('TOM' in name_list)\n",
    "print('TOMS' in name_list)\n",
    "\n",
    "# not in\n",
    "print('TOM' not in name_list)\n",
    "print('TOMs' not in name_list)"
   ]
  },
  {
   "cell_type": "markdown",
   "metadata": {},
   "source": [
    "#### 列表增加数据"
   ]
  },
  {
   "cell_type": "code",
   "execution_count": 74,
   "metadata": {},
   "outputs": [
    {
     "name": "stdout",
     "output_type": "stream",
     "text": [
      "['TOM', 'Lily', 'ROSE', 'xiaoming']\n",
      "['TOM', 'Lily', 'ROSE', 'xiaoming', [11, 22]]\n",
      "['TOM', 'Lily', 'ROSE', 11, 22]\n",
      "['TOM', 'Lily', 'ROSE', 11, 22, 'xiaoming', 'xiaohong']\n",
      "['TOM', 'Lily', 'ROSE', 11, 22, 'xiaoming', 'xiaohong', 'x', 'i', 'a', 'o', 'm', 'i', 'n', 'g']\n",
      "['TOM', 'xiaoming', 'Lily', 'ROSE']\n"
     ]
    }
   ],
   "source": [
    "# append()：在列表末尾追加数据\n",
    "name_list = ['TOM', 'Lily', 'ROSE']\n",
    "name_list.append('xiaoming')\n",
    "print(name_list)\n",
    "# append函数追加数据的时候如果数据是一个序列，追加整个序列到列表的结尾\n",
    "name_list.append([11, 22])\n",
    "print(name_list)\n",
    "\n",
    "# extend()：在列表末尾追加数据，数据是一个序列，把数据序列里面的数据拆开然后逐一追加到列表的结尾\n",
    "name_list = ['TOM', 'Lily', 'ROSE']\n",
    "name_list.extend([11, 22])\n",
    "print(name_list)\n",
    "name_list.extend(['xiaoming', 'xiaohong'])\n",
    "print(name_list)\n",
    "name_list.extend('xiaoming')\n",
    "print(name_list)\n",
    "\n",
    "# insert()：在指定位置插入数据，后面的数据会往后移动\n",
    "name_list = ['TOM', 'Lily', 'ROSE']\n",
    "name_list.insert(1, 'xiaoming')\n",
    "print(name_list)"
   ]
  },
  {
   "cell_type": "markdown",
   "metadata": {},
   "source": [
    "#### 列表删除数据"
   ]
  },
  {
   "cell_type": "code",
   "execution_count": 75,
   "metadata": {},
   "outputs": [
    {
     "name": "stdout",
     "output_type": "stream",
     "text": [
      "['Lily', 'ROSE']\n",
      "ROSE\n",
      "['TOM', 'Lily']\n",
      "TOM\n",
      "['Lily']\n",
      "['TOM', 'Lily']\n",
      "[]\n"
     ]
    }
   ],
   "source": [
    "name_list = ['TOM', 'Lily', 'ROSE']\n",
    "# del\n",
    "# del name_list # 直接删除列表,del(name_list)与上相同\n",
    "del name_list[0] # 删除指定下标的数据\n",
    "print(name_list)\n",
    "\n",
    "# pop()：删除指定下标的数据，如果不指定下标，默认删除最后一个数据\n",
    "# 无论是按照下标还是删除最后一个，pop函数会返回这个被删除的数据\n",
    "name_list = ['TOM', 'Lily', 'ROSE']\n",
    "del_name = name_list.pop()\n",
    "print(del_name)\n",
    "print(name_list)\n",
    "del_name = name_list.pop(0)\n",
    "print(del_name)\n",
    "print(name_list)\n",
    "\n",
    "# remove(数据),：删除指定数据，删除第一个匹配到的数据\n",
    "name_list = ['TOM', 'Lily', 'ROSE']\n",
    "name_list.remove('ROSE')\n",
    "print(name_list)\n",
    "\n",
    "# clear():清空列表数据\n",
    "name_list.clear()\n",
    "print(name_list)"
   ]
  },
  {
   "cell_type": "markdown",
   "metadata": {},
   "source": [
    "#### 列表修改数据"
   ]
  },
  {
   "cell_type": "code",
   "execution_count": 76,
   "metadata": {},
   "outputs": [
    {
     "name": "stdout",
     "output_type": "stream",
     "text": [
      "['aaa', 'Lily', 'ROSE']\n",
      "[6, 4, 5, 2, 3, 1]\n",
      "[1, 2, 3, 4, 5, 6]\n",
      "[6, 5, 4, 3, 2, 1]\n"
     ]
    }
   ],
   "source": [
    "name_list = ['TOM', 'Lily', 'ROSE']\n",
    "name_list[0] = 'aaa'\n",
    "print(name_list)\n",
    "\n",
    "# reverse()：逆序\n",
    "list1 = [1, 3, 2, 5, 4, 6]\n",
    "list1.reverse()\n",
    "print(list1)\n",
    "\n",
    "# sort() 排序：升序(默认) 和 降序\n",
    "list1.sort() # 与list1.sort(reverse=False)相同，默认reverse=False\n",
    "print(list1)\n",
    "list1.sort(reverse=True)\n",
    "print(list1)"
   ]
  },
  {
   "cell_type": "markdown",
   "metadata": {},
   "source": [
    "#### 列表复制"
   ]
  },
  {
   "cell_type": "code",
   "execution_count": 79,
   "metadata": {},
   "outputs": [
    {
     "name": "stdout",
     "output_type": "stream",
     "text": [
      "['TOM', 'Lily', 'ROSE']\n"
     ]
    }
   ],
   "source": [
    "name_list = ['TOM', 'Lily', 'ROSE']\n",
    "list1 = name_list.copy() # 复制列表，返回一个新的列表\n",
    "print(list1)"
   ]
  },
  {
   "cell_type": "markdown",
   "metadata": {},
   "source": [
    "#### 列表遍历"
   ]
  },
  {
   "cell_type": "code",
   "execution_count": 81,
   "metadata": {},
   "outputs": [
    {
     "name": "stdout",
     "output_type": "stream",
     "text": [
      "TOM\n",
      "Lily\n",
      "ROSE\n",
      "TOM\n",
      "Lily\n",
      "ROSE\n"
     ]
    }
   ],
   "source": [
    "# while循环遍历列表\n",
    "name_list = ['TOM', 'Lily', 'ROSE']\n",
    "'''\n",
    "1. 准备表示下标数据\n",
    "2. 循环while\n",
    "    条件 i < 3  len()\n",
    "    遍历：依次按顺序访问到序列的每一个数据 \n",
    "    i += 1\n",
    "'''\n",
    "i = 0\n",
    "while i < len(name_list):\n",
    "    print(name_list[i])\n",
    "    i += 1\n",
    "    \n",
    "# for循环遍历列表\n",
    "for i in name_list:\n",
    "    print(i)"
   ]
  },
  {
   "cell_type": "markdown",
   "metadata": {},
   "source": [
    "#### 列表嵌套"
   ]
  },
  {
   "cell_type": "code",
   "execution_count": 83,
   "metadata": {},
   "outputs": [
    {
     "name": "stdout",
     "output_type": "stream",
     "text": [
      "[['TOM', 'Lily', 'Rose'], ['张三', '李四', '王五'], ['xiaohong', 'xiaoming', 'xiaolv']]\n",
      "['TOM', 'Lily', 'Rose']\n",
      "Lily\n"
     ]
    }
   ],
   "source": [
    "name_list = [['TOM', 'Lily', 'Rose'], ['张三', '李四', '王五'], ['xiaohong', 'xiaoming', 'xiaolv']]\n",
    "print(name_list)\n",
    "# 列表嵌套的时候的数据查询\n",
    "print(name_list[0])\n",
    "print(name_list[0][1])"
   ]
  },
  {
   "cell_type": "markdown",
   "metadata": {},
   "source": [
    "## 元组\n",
    "#### 元组数据是不可更改的"
   ]
  },
  {
   "cell_type": "markdown",
   "metadata": {},
   "source": [
    "#### 定义元组"
   ]
  },
  {
   "cell_type": "code",
   "execution_count": 84,
   "metadata": {},
   "outputs": [
    {
     "name": "stdout",
     "output_type": "stream",
     "text": [
      "<class 'tuple'>\n",
      "<class 'tuple'>\n",
      "<class 'int'>\n",
      "<class 'str'>\n",
      "<class 'tuple'>\n"
     ]
    }
   ],
   "source": [
    "# 多个数据元组\n",
    "t1 = (10, 20, 30)\n",
    "print(type(t1))\n",
    "\n",
    "# 单个数据的元组\n",
    "t2 = (10,)\n",
    "print(type(t2))\n",
    "\n",
    "# 如果单个数据的元组不加逗号\n",
    "t3 = (10)\n",
    "print(type(t3))\n",
    "t4 = ('aaa')\n",
    "print(type(t4))\n",
    "t5 = ('aaa',)\n",
    "print(type(t5))"
   ]
  },
  {
   "cell_type": "markdown",
   "metadata": {},
   "source": [
    "#### 元组常见操作"
   ]
  },
  {
   "cell_type": "code",
   "execution_count": 86,
   "metadata": {},
   "outputs": [
    {
     "name": "stdout",
     "output_type": "stream",
     "text": [
      "aa\n",
      "1\n",
      "1\n",
      "0\n",
      "4\n"
     ]
    }
   ],
   "source": [
    "t1 = ('aa', 'bb', 'cc', 'bb')\n",
    "# 下标\n",
    "print(t1[0])\n",
    "\n",
    "# index()\n",
    "print(t1.index('bb'))\n",
    "# print(t1.index('bbb')) # 查找不存在的元素会报错\n",
    "\n",
    "# count()\n",
    "print(t1.count('aa'))\n",
    "print(t1.count('aaa'))\n",
    "\n",
    "# len()\n",
    "print(len(t1))"
   ]
  },
  {
   "cell_type": "markdown",
   "metadata": {},
   "source": [
    "#### 元组修改"
   ]
  },
  {
   "cell_type": "code",
   "execution_count": 88,
   "metadata": {},
   "outputs": [
    {
     "name": "stdout",
     "output_type": "stream",
     "text": [
      "('aa', 'bb', ['cc', 'dd'])\n",
      "cc\n",
      "('aa', 'bb', ['TOM', 'dd'])\n"
     ]
    }
   ],
   "source": [
    "t1 = ('aa', 'bb', 'cc', 'bb')\n",
    "# t1[0] = 'aaa' # 元组数据是不可更改的，所以报错\n",
    "# 元组内部嵌套列表数据是可以修改的\n",
    "t2 = ('aa', 'bb', ['cc', 'dd'])\n",
    "print(t2)\n",
    "\n",
    "print(t2[2][0])\n",
    "t2[2][0] = 'TOM'\n",
    "print(t2)"
   ]
  },
  {
   "cell_type": "markdown",
   "metadata": {},
   "source": [
    "## 字典\n",
    "#### {}  键值对  各个键值对用逗号隔开"
   ]
  },
  {
   "cell_type": "markdown",
   "metadata": {},
   "source": [
    "#### 创建字典"
   ]
  },
  {
   "cell_type": "code",
   "execution_count": 99,
   "metadata": {},
   "outputs": [
    {
     "name": "stdout",
     "output_type": "stream",
     "text": [
      "{'name': 'TOM', 'age': 20, 'gender': '男'}\n",
      "<class 'dict'>\n",
      "<class 'dict'>\n",
      "<class 'dict'>\n"
     ]
    }
   ],
   "source": [
    "# 有数据的字典：name的值TOM，age的值是20，gender的值是男\n",
    "dict1 = {'name': 'TOM', 'age': 20, 'gender': '男'}\n",
    "print(dict1)\n",
    "print(type(dict1))\n",
    "\n",
    "# 空字典(两种方式)\n",
    "dict2 = {}\n",
    "print(type(dict2))\n",
    "dict3 = dict()\n",
    "print(type(dict3))"
   ]
  },
  {
   "cell_type": "markdown",
   "metadata": {},
   "source": [
    "#### 字典操作"
   ]
  },
  {
   "cell_type": "code",
   "execution_count": 101,
   "metadata": {},
   "outputs": [
    {
     "name": "stdout",
     "output_type": "stream",
     "text": [
      "{'id': 110}\n",
      "{'id': 110, 'name': 'ROSE'}\n",
      "{'age': 20, 'gender': '男'}\n",
      "{}\n"
     ]
    }
   ],
   "source": [
    "# 新增数据：字典序列[key] = 值\n",
    "# id的值是110\n",
    "dict1['id'] = 110\n",
    "print(dict1)\n",
    "\n",
    "# 修改数据：字典序列[key] = 值\n",
    "dict1['name'] = 'ROSE'\n",
    "print(dict1)\n",
    "\n",
    "\n",
    "\n",
    "# 删除数据：del 字典序列[key]\n",
    "dict1 = {'name': 'TOM', 'age': 20, 'gender': '男'}\n",
    "# 删除整个字典\n",
    "# del(dict1)\n",
    "# print(dict1) # 删除整个字典，报错\n",
    "\n",
    "# 删除指定的键值对\n",
    "del dict1['name']\n",
    "print(dict1)\n",
    "# del dict1['names']\n",
    "# print(dict1) # 删除不存在的键值对，报错\n",
    "\n",
    "# 清空操作：clear()\n",
    "dict1.clear()\n",
    "print(dict1)"
   ]
  },
  {
   "cell_type": "markdown",
   "metadata": {},
   "source": [
    "#### 字典查找数据"
   ]
  },
  {
   "cell_type": "code",
   "execution_count": 102,
   "metadata": {},
   "outputs": [
    {
     "name": "stdout",
     "output_type": "stream",
     "text": [
      "TOM\n",
      "TOM\n",
      "None\n",
      "Lily\n",
      "dict_keys(['name', 'age', 'gender'])\n",
      "dict_values(['TOM', 20, '男'])\n",
      "dict_items([('name', 'TOM'), ('age', 20), ('gender', '男')])\n"
     ]
    }
   ],
   "source": [
    "dict1 = {'name': 'TOM', 'age': 20, 'gender': '男'}\n",
    "\n",
    "# [key]\n",
    "print(dict1['name'])  # 返回对应的值(key存在)\n",
    "# print(dict1['names']) # 返回不存在的key，报错\n",
    "\n",
    "# 函数（4种方式）\n",
    "# 1 get()\n",
    "print(dict1.get('name')) # 返回对应的值(key存在)\n",
    "print(dict1.get('names'))  # 如果key不存在，返回None\n",
    "print(dict1.get('names', 'Lily'))\n",
    "# 2 keys() 查找字典中所有的key，返回可迭代对象\n",
    "print(dict1.keys())\n",
    "# 3 values() 查找字典中的所有的value，返回可迭代对象\n",
    "print(dict1.values())\n",
    "# 4 items() 查找字典中所有的键值对，返回可迭代对象，里面的数据是元组，元组数据1是字典的key，元组数据2是字典key对应的值\n",
    "print(dict1.items())"
   ]
  },
  {
   "cell_type": "markdown",
   "metadata": {},
   "source": [
    "#### 字典遍历"
   ]
  },
  {
   "cell_type": "code",
   "execution_count": 103,
   "metadata": {},
   "outputs": [
    {
     "name": "stdout",
     "output_type": "stream",
     "text": [
      "name\n",
      "age\n",
      "gender\n",
      "TOM\n",
      "20\n",
      "男\n",
      "('name', 'TOM')\n",
      "('age', 20)\n",
      "('gender', '男')\n",
      "name=TOM\n",
      "age=20\n",
      "gender=男\n"
     ]
    }
   ],
   "source": [
    "# 遍历字典的key\n",
    "dict1 = {'name': 'TOM', 'age': 20, 'gender': '男'}\n",
    "for key in dict1.keys():\n",
    "    print(key)\n",
    "\n",
    "# 遍历字典的value\n",
    "for value in dict1.values():\n",
    "    print(value)\n",
    "\n",
    "# 遍历字典的键值对\n",
    "for item in dict1.items():\n",
    "    print(item)\n",
    "\n",
    "# 遍历字典的键值对，拆分成key和value两个变量\n",
    "# xx.items(): 返回可迭代元组，元组有2个数据，数据1是字典的key，数据2是字典的value\n",
    "for key, value in dict1.items():\n",
    "    # print(key)\n",
    "    # print(value)\n",
    "    # 目标： key=value\n",
    "    print(f'{key}={value}')"
   ]
  },
  {
   "cell_type": "markdown",
   "metadata": {},
   "source": [
    "## 集合"
   ]
  },
  {
   "cell_type": "markdown",
   "metadata": {},
   "source": [
    "#### 创建集合"
   ]
  },
  {
   "cell_type": "code",
   "execution_count": 107,
   "metadata": {},
   "outputs": [
    {
     "name": "stdout",
     "output_type": "stream",
     "text": [
      "{50, 20, 40, 10, 30}\n",
      "{40, 10, 20, 30}\n",
      "{'f', 'e', 'c', 'g', 'a', 'd', 'b'}\n",
      "set()\n"
     ]
    }
   ],
   "source": [
    "# 集合内数据是无序的\n",
    "s1 = {10, 20, 30, 40, 50}\n",
    "print(s1)\n",
    "\n",
    "# 集合内不能重复，数据是唯一的\n",
    "s2 = {10, 30, 20, 40, 30, 20}\n",
    "print(s2)\n",
    "\n",
    "# 集合内的数据类型可以不同\n",
    "s3 = set('abcdefg')\n",
    "print(s3)\n",
    "\n",
    "# 创建空集合: set()\n",
    "s4 = set()\n",
    "print(s4)"
   ]
  },
  {
   "cell_type": "markdown",
   "metadata": {},
   "source": [
    "#### 集合增加数据（add、update）"
   ]
  },
  {
   "cell_type": "code",
   "execution_count": 109,
   "metadata": {},
   "outputs": [
    {
     "name": "stdout",
     "output_type": "stream",
     "text": [
      "{100, 10, 20}\n",
      "{100, 10, 20}\n",
      "{100, 40, 10, 50, 20, 30}\n"
     ]
    }
   ],
   "source": [
    "s1 = {10, 20}\n",
    "\n",
    "# add()\n",
    "s1.add(100)\n",
    "print(s1)\n",
    "s1.add(100) # 集合有去重功能，增加的数据若是已有数据，则不添加\n",
    "print(s1)\n",
    "# s1.add([10, 20, 30])  # 报错，add增加的是单一数据\n",
    "\n",
    "# update()： 增加的数据是序列\n",
    "s1.update([10, 20, 30, 40, 50])\n",
    "print(s1)\n",
    "# s1.update(100)  # 报错，update不能增加单一数据"
   ]
  },
  {
   "cell_type": "markdown",
   "metadata": {},
   "source": [
    "#### 集合删除数据（remove、discard、pop）"
   ]
  },
  {
   "cell_type": "code",
   "execution_count": 110,
   "metadata": {},
   "outputs": [
    {
     "name": "stdout",
     "output_type": "stream",
     "text": [
      "{50, 20, 40, 30}\n",
      "{50, 20, 40, 30}\n",
      "50\n",
      "{20, 40, 30}\n"
     ]
    }
   ],
   "source": [
    "s1 = {10, 20, 30, 40, 50}\n",
    "# remove(): 删除指定数据，如果数据不存在报错\n",
    "s1.remove(10)\n",
    "print(s1)\n",
    "# s1.remove(10)  # 数据不存在会报错\n",
    "\n",
    "# discard()：删除指定数据，如果数据不存在不报错\n",
    "s1.discard(10)\n",
    "print(s1)\n",
    "\n",
    "# pop(): 随机删除某个数据，并返回这个数据\n",
    "del_num = s1.pop()\n",
    "print(del_num)\n",
    "print(s1)"
   ]
  },
  {
   "cell_type": "markdown",
   "metadata": {},
   "source": [
    "#### 查找数据"
   ]
  },
  {
   "cell_type": "code",
   "execution_count": 111,
   "metadata": {},
   "outputs": [
    {
     "name": "stdout",
     "output_type": "stream",
     "text": [
      "True\n",
      "False\n"
     ]
    }
   ],
   "source": [
    "s1 = {10, 20, 30, 40, 50}\n",
    "# in 或not in 判断数据10是否存在\n",
    "print(10 in s1)\n",
    "print(10 not in s1)"
   ]
  },
  {
   "cell_type": "markdown",
   "metadata": {},
   "source": [
    "## 运算符"
   ]
  },
  {
   "cell_type": "markdown",
   "metadata": {},
   "source": [
    "#### 加法（支持 字符串、列表、元组）"
   ]
  },
  {
   "cell_type": "code",
   "execution_count": null,
   "metadata": {},
   "outputs": [],
   "source": [
    "str1 = 'aa'\n",
    "str2 = 'bb'\n",
    "list1 = [1, 2]\n",
    "list2 = [10, 20]\n",
    "t1 = (1, 2)\n",
    "t2 = (10, 20)\n",
    "dict1 = {'name': 'Python'}\n",
    "dict2 = {'age': 30}\n",
    "print(str1 + str2)\n",
    "print(list1 + list2)\n",
    "print(t1 + t2)\n",
    "# print(dict1 + dict2)  # 报错：字典不支持合并运算"
   ]
  },
  {
   "cell_type": "markdown",
   "metadata": {},
   "source": [
    "#### 乘法（支持 字符串、列表、元组）"
   ]
  },
  {
   "cell_type": "code",
   "execution_count": 112,
   "metadata": {},
   "outputs": [
    {
     "name": "stdout",
     "output_type": "stream",
     "text": [
      "aaaaa\n",
      "----------\n",
      "['hello', 'hello', 'hello', 'hello', 'hello']\n",
      "('world', 'world', 'world', 'world', 'world')\n"
     ]
    }
   ],
   "source": [
    "str1 = 'a'\n",
    "list1 = ['hello']\n",
    "t1 = ('world',)\n",
    "# *:复制\n",
    "print(str1 * 5)\n",
    "# 打印10个-：\n",
    "print('-' * 10)\n",
    "print(list1 * 5)\n",
    "print(t1 * 5)"
   ]
  },
  {
   "cell_type": "markdown",
   "metadata": {},
   "source": [
    "#### 判断数据是否存在"
   ]
  },
  {
   "cell_type": "code",
   "execution_count": 113,
   "metadata": {},
   "outputs": [
    {
     "name": "stdout",
     "output_type": "stream",
     "text": [
      "True\n",
      "False\n",
      "True\n",
      "False\n",
      "False\n",
      "True\n",
      "True\n",
      "False\n",
      "True\n",
      "False\n"
     ]
    }
   ],
   "source": [
    "str1 = 'abcd'\n",
    "list1 = [10, 20, 30, 40]\n",
    "t1 = (100, 200, 300, 400)\n",
    "dict1 = {'name': 'Python', 'age': 30}\n",
    "\n",
    "# in 和 not in\n",
    "# 1. 字符a是否存在\n",
    "print('a' in str1)\n",
    "print('a' not in str1)\n",
    "\n",
    "# 2. 数据10是否存在\n",
    "print(10 in list1)\n",
    "print(10 not in list1)\n",
    "\n",
    "# 3. 100是否存在\n",
    "print(100 not in t1)\n",
    "print(100 in t1)\n",
    "\n",
    "# 4. name是否存在\n",
    "print('name' in dict1)\n",
    "print('name' not in dict1)\n",
    "print('name' in dict1.keys())\n",
    "print('name' in dict1.values())"
   ]
  },
  {
   "cell_type": "markdown",
   "metadata": {},
   "source": [
    "#### 计算元素个数"
   ]
  },
  {
   "cell_type": "code",
   "execution_count": 115,
   "metadata": {},
   "outputs": [
    {
     "name": "stdout",
     "output_type": "stream",
     "text": [
      "7\n",
      "5\n",
      "5\n",
      "5\n",
      "2\n"
     ]
    }
   ],
   "source": [
    "str1 = 'abcdefg'\n",
    "list1 = [10, 20, 30, 40, 50]\n",
    "t1 = (10, 20, 30, 40, 50)\n",
    "s1 = {10, 20, 30, 40, 50}\n",
    "dict1 = {'name': 'TOM', 'age': 18}\n",
    "print(len(str1))\n",
    "print(len(list1))\n",
    "print(len(t1))\n",
    "print(len(s1))\n",
    "print(len(dict1)) # 一个键值对是一个数据，所以len返回的是2"
   ]
  },
  {
   "cell_type": "markdown",
   "metadata": {},
   "source": [
    "#### 删除数据：del 目标 或del(目标)"
   ]
  },
  {
   "cell_type": "code",
   "execution_count": 116,
   "metadata": {},
   "outputs": [],
   "source": [
    "del str1\n",
    "# print(str1) # 报错\n",
    "# del(list1)\n",
    "# print(list1) # 报错\n",
    "del(list1[0])\n",
    "# print(list1) # 报错\n",
    "del s1\n",
    "# print(s1) # 报错\n",
    "# del dict1\n",
    "# print(dict1) # 报错\n",
    "del dict1['name']\n",
    "# print(dict1) # 报错"
   ]
  },
  {
   "cell_type": "markdown",
   "metadata": {},
   "source": [
    "#### 最大值和最小值"
   ]
  },
  {
   "cell_type": "code",
   "execution_count": 117,
   "metadata": {},
   "outputs": [
    {
     "name": "stdout",
     "output_type": "stream",
     "text": [
      "g\n",
      "50\n",
      "a\n",
      "10\n"
     ]
    }
   ],
   "source": [
    "str1 = 'abcdefg'\n",
    "list1 = [10, 20, 30, 40, 50]\n",
    "\n",
    "# max() : 最大值\n",
    "print(max(str1))\n",
    "print(max(list1))\n",
    "\n",
    "# min() ： 最小值\n",
    "print(min(str1))\n",
    "print(min(list1))"
   ]
  },
  {
   "cell_type": "markdown",
   "metadata": {},
   "source": [
    "#### 生成序列：range(start, end, step) 不包含结束位，步长不写默认为1，开始位置不写默认为0"
   ]
  },
  {
   "cell_type": "code",
   "execution_count": 118,
   "metadata": {},
   "outputs": [
    {
     "name": "stdout",
     "output_type": "stream",
     "text": [
      "range(1, 10)\n",
      "0\n",
      "1\n",
      "2\n",
      "3\n",
      "4\n",
      "5\n",
      "6\n",
      "7\n",
      "8\n",
      "9\n"
     ]
    }
   ],
   "source": [
    "print(range(1, 10, 1))\n",
    "# for i in range(1, 10, 1):\n",
    "#     print(i)\n",
    "\n",
    "for i in range(10):\n",
    "    print(i)"
   ]
  },
  {
   "cell_type": "markdown",
   "metadata": {},
   "source": [
    "#### 遍历：enumerate（可迭代对象，开始位置下标）开始位置默认从0开始"
   ]
  },
  {
   "cell_type": "code",
   "execution_count": 120,
   "metadata": {},
   "outputs": [
    {
     "name": "stdout",
     "output_type": "stream",
     "text": [
      "(0, 'a')\n",
      "(1, 'b')\n",
      "(2, 'c')\n",
      "(3, 'd')\n",
      "(4, 'e')\n",
      "(1, 'a')\n",
      "(2, 'b')\n",
      "(3, 'c')\n",
      "(4, 'd')\n",
      "(5, 'e')\n"
     ]
    }
   ],
   "source": [
    "list1 = ['a', 'b', 'c', 'd', 'e']\n",
    "# enumerate 返回元组，第一个数据是对象数据对应的下标，第二个数据是对象的数据\n",
    "for i in enumerate(list1):\n",
    "     print(i)\n",
    "for i in enumerate(list1, start=1):\n",
    "     print(i)"
   ]
  },
  {
   "cell_type": "markdown",
   "metadata": {},
   "source": [
    "#### 转换数据类型"
   ]
  },
  {
   "cell_type": "code",
   "execution_count": 121,
   "metadata": {},
   "outputs": [
    {
     "name": "stdout",
     "output_type": "stream",
     "text": [
      "(10, 20, 30, 20, 40, 50)\n",
      "(200, 100, 500, 300)\n",
      "[200, 100, 500, 300]\n",
      "['a', 'b', 'c', 'd', 'e']\n",
      "{40, 10, 50, 20, 30}\n",
      "{'e', 'c', 'a', 'd', 'b'}\n"
     ]
    }
   ],
   "source": [
    "list1 = [10, 20, 30, 20, 40, 50]\n",
    "s1 = {100, 300, 200, 500}\n",
    "t1 = ('a', 'b', 'c', 'd', 'e')\n",
    "\n",
    "# tuple(): 转换成元组\n",
    "print(tuple(list1))\n",
    "print(tuple(s1))\n",
    "\n",
    "# list()：转换成列表\n",
    "print(list(s1))\n",
    "print(list(t1))\n",
    "\n",
    "# set()：转换成集合，没有顺序\n",
    "print(set(list1))\n",
    "print(set(t1))"
   ]
  },
  {
   "cell_type": "markdown",
   "metadata": {},
   "source": [
    "## 推导式--化简代码用"
   ]
  },
  {
   "cell_type": "markdown",
   "metadata": {},
   "source": [
    "#### 列表推导式"
   ]
  },
  {
   "cell_type": "code",
   "execution_count": 143,
   "metadata": {},
   "outputs": [
    {
     "name": "stdout",
     "output_type": "stream",
     "text": [
      "[0, 1, 2, 3, 4, 5, 6, 7, 8, 9]\n"
     ]
    }
   ],
   "source": [
    "# 需求：0，1，2...，9\n",
    "# 列表推导式实现\n",
    "list0 = [i for i in range(10)]\n",
    "print(list0)"
   ]
  },
  {
   "cell_type": "markdown",
   "metadata": {},
   "source": [
    "#### 带if的列表推导式"
   ]
  },
  {
   "cell_type": "code",
   "execution_count": 144,
   "metadata": {},
   "outputs": [
    {
     "name": "stdout",
     "output_type": "stream",
     "text": [
      "[0, 2, 4, 6, 8]\n",
      "[0, 2, 4, 6, 8]\n"
     ]
    }
   ],
   "source": [
    "# 需求：0-10偶数数据的列表\n",
    "# 方法1 简单列表推导式 range步长\n",
    "list1 = [i for i in range(0, 10, 2)]\n",
    "print(list1)\n",
    "\n",
    "# 方法2 把for循环配合if的代码 改写 带if的列表推导式\n",
    "list2 = [i for i in range(10) if i % 2 == 0]\n",
    "print(list2)"
   ]
  },
  {
   "cell_type": "markdown",
   "metadata": {},
   "source": [
    "#### 多个for实现列表推导式"
   ]
  },
  {
   "cell_type": "code",
   "execution_count": 145,
   "metadata": {},
   "outputs": [
    {
     "name": "stdout",
     "output_type": "stream",
     "text": [
      "[(1, 0), (1, 1), (1, 2), (2, 0), (2, 1), (2, 2)]\n"
     ]
    }
   ],
   "source": [
    "# 需求：[(1, 0), (1, 1), (1, 2), (2, 0), (2, 1), (2, 2)]--元组\n",
    "list3 = [(i, j) for i in range(1, 3) for j in range(3)]\n",
    "print(list3)"
   ]
  },
  {
   "cell_type": "markdown",
   "metadata": {},
   "source": [
    "#### 字典推导式"
   ]
  },
  {
   "cell_type": "code",
   "execution_count": 146,
   "metadata": {},
   "outputs": [
    {
     "name": "stdout",
     "output_type": "stream",
     "text": [
      "{1: 1, 2: 4, 3: 9, 4: 16, 5: 25}\n",
      "{'name': 'Tom', 'age': 20, 'gender': 'man'}\n",
      "{'MBP': 268, 'DELL': 201}\n"
     ]
    }
   ],
   "source": [
    "# 创建字典 key是1-5的数字，v是这个数字的平方\n",
    "dict1 = {i: i**2 for i in range(1, 6)}\n",
    "print(dict1)\n",
    "\n",
    "# 合并列表为字典\n",
    "list1 = ['name', 'age', 'gender', 'id']\n",
    "list2 = ['Tom', 20, 'man']\n",
    "dict1 = {list1[i]: list2[i] for i in range(len(list2))}\n",
    "print(dict1)\n",
    "# 如果两个列表数据个数不同，len统计数据多的列表会报错；len统计数据少的不会报错\n",
    "\n",
    "# 提取字典中目标数据\n",
    "unts = {'MBP': 268, 'HP': 125, 'DELL': 201, 'Lenovo': 199, 'acer': 99}\n",
    "# 需求：提取电脑台数大于等于200\n",
    "dict1 = {key: value for key, value in unts.items() if value >= 200}\n",
    "print(dict1)"
   ]
  },
  {
   "cell_type": "markdown",
   "metadata": {},
   "source": [
    "#### 集合推导式"
   ]
  },
  {
   "cell_type": "code",
   "execution_count": 147,
   "metadata": {},
   "outputs": [
    {
     "name": "stdout",
     "output_type": "stream",
     "text": [
      "{1, 4}\n"
     ]
    }
   ],
   "source": [
    "list1 = [1, 1, 2]\n",
    "set1 = {i ** 2 for i in list1}\n",
    "print(set1)\n",
    "# 集合有去重功能"
   ]
  },
  {
   "cell_type": "markdown",
   "metadata": {},
   "source": [
    "## 函数（先定义，后调用，否则报错）"
   ]
  },
  {
   "cell_type": "markdown",
   "metadata": {},
   "source": [
    "#### 参数（计算加法）"
   ]
  },
  {
   "cell_type": "code",
   "execution_count": 128,
   "metadata": {},
   "outputs": [
    {
     "name": "stdout",
     "output_type": "stream",
     "text": [
      "30\n",
      "300\n"
     ]
    }
   ],
   "source": [
    "def add_num(a, b):\n",
    "    result = a + b\n",
    "    print(result)\n",
    "\n",
    "add_num(10, 20)\n",
    "add_num(100, 200)\n",
    "# a，b是形参，10，20是实参；形参和实参的个数要一致"
   ]
  },
  {
   "cell_type": "markdown",
   "metadata": {},
   "source": [
    "#### 返回值"
   ]
  },
  {
   "cell_type": "code",
   "execution_count": 129,
   "metadata": {},
   "outputs": [
    {
     "name": "stdout",
     "output_type": "stream",
     "text": [
      "烟\n"
     ]
    }
   ],
   "source": [
    "# 定义一个函数buy，返回 烟\n",
    "def buy():\n",
    "    return '烟'\n",
    "    print('买烟') # return后面的代码不会执行\n",
    "\n",
    "goods = buy()\n",
    "print(goods)"
   ]
  },
  {
   "cell_type": "markdown",
   "metadata": {},
   "source": [
    "#### 函数的说明文档"
   ]
  },
  {
   "cell_type": "code",
   "execution_count": 130,
   "metadata": {},
   "outputs": [
    {
     "name": "stdout",
     "output_type": "stream",
     "text": [
      "Help on function sum_num1 in module __main__:\n",
      "\n",
      "sum_num1(a, b)\n",
      "    求和函数sum_num1\n",
      "        :param a: 参数1\n",
      "        :param b: 参数2\n",
      "        :return: 返回值\n",
      "\n"
     ]
    }
   ],
   "source": [
    "# 在def下的第一行用多行注释符来写说明文档\n",
    "\n",
    "def sum_num1(a, b):\n",
    "    '''\n",
    "    求和函数sum_num1\n",
    "        :param a: 参数1\n",
    "        :param b: 参数2\n",
    "        :return: 返回值\n",
    "    '''\n",
    "    return a + b\n",
    "\n",
    "help(sum_num1) # help函数作用：查看函数的说明文档(函数的解释说明的信息)"
   ]
  },
  {
   "cell_type": "markdown",
   "metadata": {},
   "source": [
    "#### 函数嵌套：函数嵌套调用 实现多条横线"
   ]
  },
  {
   "cell_type": "code",
   "execution_count": 131,
   "metadata": {},
   "outputs": [
    {
     "name": "stdout",
     "output_type": "stream",
     "text": [
      "----------\n",
      "----------\n",
      "----------\n"
     ]
    }
   ],
   "source": [
    "def print_line():\n",
    "    print('-' * 10)\n",
    "\n",
    "def print_lines(num):\n",
    "        [ print_line() for i in range(num)]\n",
    "print_lines(3)"
   ]
  },
  {
   "cell_type": "markdown",
   "metadata": {},
   "source": [
    "#### 局部变量与全局变量"
   ]
  },
  {
   "cell_type": "code",
   "execution_count": 132,
   "metadata": {},
   "outputs": [
    {
     "name": "stdout",
     "output_type": "stream",
     "text": [
      "100\n",
      "100\n",
      "100\n"
     ]
    }
   ],
   "source": [
    "def testA():\n",
    "    a = 100 # a是局部变量，只能在函数体内部访问\n",
    "    print(a)\n",
    "\n",
    "testA()\n",
    "# print(a)  # 报错： a变量是函数内部的变量，函数外部无法访问 -- a是一个局部变量\n",
    "\n",
    "a = 100 # a是全局变量，函数内外部都可以访问\n",
    "def testA():\n",
    "    print(a)\n",
    "\n",
    "testA()\n",
    "print(a)"
   ]
  },
  {
   "cell_type": "markdown",
   "metadata": {},
   "source": [
    "#### 全局变量修改：（global 变量名）"
   ]
  },
  {
   "cell_type": "code",
   "execution_count": 133,
   "metadata": {},
   "outputs": [
    {
     "name": "stdout",
     "output_type": "stream",
     "text": [
      "100\n",
      "200\n",
      "100\n",
      "200\n",
      "200\n"
     ]
    }
   ],
   "source": [
    "a = 100\n",
    "print(a) # 此时的a是全局变量，值是100\n",
    "\n",
    "def testA():\n",
    "    a = 200 # a是局部变量修改\n",
    "    print(a)\n",
    "\n",
    "testA()\n",
    "print(a) # 此时的a是全局变量，值是100\n",
    "\n",
    "def testB():\n",
    "    global a # 声明a为全局变量\n",
    "    a = 200 # 此时修改即为全局变量\n",
    "    print(a)\n",
    "\n",
    "testB()\n",
    "print(a)"
   ]
  },
  {
   "cell_type": "markdown",
   "metadata": {},
   "source": [
    "#### 多函数执行流程"
   ]
  },
  {
   "cell_type": "code",
   "execution_count": 134,
   "metadata": {},
   "outputs": [
    {
     "name": "stdout",
     "output_type": "stream",
     "text": [
      "0\n",
      "100\n"
     ]
    }
   ],
   "source": [
    "glo_num = 0\n",
    "\n",
    "def test1():\n",
    "    global glo_num\n",
    "    glo_num = 100\n",
    "\n",
    "def test2():\n",
    "    print(glo_num)\n",
    "\n",
    "test2()  # 0，因为test1没执行\n",
    "test1()\n",
    "test2()  # 100，调用了函数1"
   ]
  },
  {
   "cell_type": "markdown",
   "metadata": {},
   "source": [
    "#### 函数的多返回值"
   ]
  },
  {
   "cell_type": "code",
   "execution_count": 135,
   "metadata": {},
   "outputs": [
    {
     "name": "stdout",
     "output_type": "stream",
     "text": [
      "{'name': 'Python', 'age': 30}\n"
     ]
    }
   ],
   "source": [
    "def return_num():\n",
    "    # return 1, 2   # 默认返回的是元组\n",
    "    # return (10, 20)\n",
    "    # return [100, 200] # 返回的是列表\n",
    "    return {'name': 'Python', 'age': 30} # 返回的是字典\n",
    "\n",
    "result = return_num()\n",
    "print(result)"
   ]
  },
  {
   "cell_type": "markdown",
   "metadata": {},
   "source": [
    "#### 关键字参数"
   ]
  },
  {
   "cell_type": "code",
   "execution_count": 136,
   "metadata": {},
   "outputs": [
    {
     "name": "stdout",
     "output_type": "stream",
     "text": [
      "您的姓名是ROSE, 年龄是20, 性别是女\n",
      "您的姓名是小明, 年龄是18, 性别是男\n"
     ]
    }
   ],
   "source": [
    "def user_info(name, age, gender):\n",
    "    print(f'您的姓名是{name}, 年龄是{age}, 性别是{gender}')\n",
    "\n",
    "user_info('ROSE', 20, gender='女')\n",
    "user_info('小明', gender='男', age=18) # 关键字参数之间不分先后顺序，否则需要按顺序输入参数\n",
    "# user_info(age=20, gender='男', 'TOM') # 报错：位置参数必须在关键字参数前面"
   ]
  },
  {
   "cell_type": "markdown",
   "metadata": {},
   "source": [
    "#### 默认参数"
   ]
  },
  {
   "cell_type": "code",
   "execution_count": 137,
   "metadata": {},
   "outputs": [
    {
     "name": "stdout",
     "output_type": "stream",
     "text": [
      "您的姓名是TOM, 年龄是18, 性别是男\n",
      "您的姓名是TOM, 年龄是18, 性别是女\n"
     ]
    }
   ],
   "source": [
    "def user_info(name, age, gender='男'):\n",
    "    print(f'您的姓名是{name}, 年龄是{age}, 性别是{gender}')\n",
    "\n",
    "user_info('TOM', 18)  # 没有为缺省参数传值，表示使用默认值\n",
    "user_info('TOM', 18, gender='女')  # 为缺省参数传值，使用这个值，即修改了默认值"
   ]
  },
  {
   "cell_type": "markdown",
   "metadata": {},
   "source": [
    "#### 不定长参数，接收所有位置参数，返回一个元组"
   ]
  },
  {
   "cell_type": "code",
   "execution_count": 138,
   "metadata": {},
   "outputs": [
    {
     "name": "stdout",
     "output_type": "stream",
     "text": [
      "('TOM',)\n",
      "('TOM', 20)\n",
      "('TOM', 20, 'man')\n",
      "()\n",
      "{}\n",
      "{'name': 'TOM'}\n",
      "{'name': 'TOM', 'age': 20}\n"
     ]
    }
   ],
   "source": [
    "def user_info(*args):\n",
    "    print(args)\n",
    "\n",
    "user_info('TOM')\n",
    "user_info('TOM', 20)\n",
    "user_info('TOM', 20, 'man')\n",
    "user_info()\n",
    "\n",
    "# 收集所有关键字参数，返回一个字典\n",
    "def user_info(**kwargs):\n",
    "    print(kwargs)\n",
    "\n",
    "user_info()\n",
    "user_info(name='TOM')\n",
    "user_info(name='TOM', age=20)"
   ]
  },
  {
   "cell_type": "markdown",
   "metadata": {},
   "source": [
    "#### 拆包"
   ]
  },
  {
   "cell_type": "code",
   "execution_count": 139,
   "metadata": {},
   "outputs": [
    {
     "name": "stdout",
     "output_type": "stream",
     "text": [
      "(100, 200)\n",
      "100\n",
      "200\n",
      "name\n",
      "age\n",
      "TOM\n",
      "20\n"
     ]
    }
   ],
   "source": [
    "# 元组数据拆包\n",
    "def return_num():\n",
    "    return 100, 200\n",
    "\n",
    "result = return_num()\n",
    "print(result)\n",
    "num1, num2 = return_num() # 用两个变量来接收\n",
    "print(num1)\n",
    "print(num2)\n",
    "\n",
    "# 字典数据拆包: 变量存储的数据是key值\n",
    "dict1 = {'name': 'TOM', 'age': 20}\n",
    "# dict1中有两个键值对，拆包的时候用两个变量接收数据\n",
    "a, b = dict1\n",
    "print(a)\n",
    "print(b)\n",
    "\n",
    "# 想查看v值\n",
    "print(dict1[a])\n",
    "print(dict1[b])"
   ]
  },
  {
   "cell_type": "markdown",
   "metadata": {},
   "source": [
    "#### 交换变量的值"
   ]
  },
  {
   "cell_type": "code",
   "execution_count": 140,
   "metadata": {},
   "outputs": [
    {
     "name": "stdout",
     "output_type": "stream",
     "text": [
      "1\n",
      "2\n"
     ]
    }
   ],
   "source": [
    "a, b = 1, 2\n",
    "print(a)\n",
    "print(b)"
   ]
  },
  {
   "cell_type": "markdown",
   "metadata": {},
   "source": [
    "#### 引用--可变和不可变"
   ]
  },
  {
   "cell_type": "code",
   "execution_count": 141,
   "metadata": {},
   "outputs": [
    {
     "name": "stdout",
     "output_type": "stream",
     "text": [
      "140725736921528\n",
      "140725736921528\n",
      "1\n",
      "140725736921560\n",
      "140725736921528\n",
      "1919537108544\n",
      "1919537108544\n",
      "[10, 20, 30]\n",
      "[10, 20, 30]\n",
      "1919537108544\n",
      "1919537108544\n"
     ]
    }
   ],
   "source": [
    "# 不可变：int类型，id()检测两个变量的id值(内存的十进制值)\n",
    "a = 1\n",
    "b = a\n",
    "# 发现a和b的id值相同的\n",
    "print(id(a))\n",
    "print(id(b))\n",
    "\n",
    "# 修改a的数据测试id值\n",
    "a = 2\n",
    "print(b) # 仅修改a的值，b的值不变\n",
    "# 因为修改了a的数据，内存要开辟另外一份内存取存储2，id检测a和b的地址不同\n",
    "print(id(a))\n",
    "print(id(b))\n",
    "\n",
    "# 可变类型：列表\n",
    "aa = [10, 20]\n",
    "bb = aa\n",
    "print(id(aa))\n",
    "print(id(bb))\n",
    "\n",
    "aa.append(30)\n",
    "print(aa)\n",
    "print(bb)  # 列表是可变类型，修改aa的值，内存地址不变，bb的值也会跟着变化\n",
    "print(id(aa))\n",
    "print(id(bb))"
   ]
  },
  {
   "cell_type": "markdown",
   "metadata": {},
   "source": [
    "#### 引用当作实参"
   ]
  },
  {
   "cell_type": "code",
   "execution_count": 1,
   "metadata": {},
   "outputs": [
    {
     "name": "stdout",
     "output_type": "stream",
     "text": [
      "100\n",
      "140707021743640\n",
      "200\n",
      "140707021746840\n",
      "[11, 22]\n",
      "2265307885312\n",
      "[11, 22, 11, 22]\n",
      "2265307885312\n"
     ]
    }
   ],
   "source": [
    "def test1(a):\n",
    "    print(a)\n",
    "    print(id(a))\n",
    "\n",
    "    a += a\n",
    "    print(a)\n",
    "    print(id(a))\n",
    "\n",
    "b = 100\n",
    "test1(b)\n",
    "\n",
    "c = [11, 22]\n",
    "test1(c)"
   ]
  },
  {
   "cell_type": "markdown",
   "metadata": {},
   "source": [
    "## 函数 综合应用"
   ]
  },
  {
   "cell_type": "markdown",
   "metadata": {},
   "source": [
    "#### 学员管理系统\n",
    "##### 需求：\n",
    "            添加学员\n",
    "            删除学员\n",
    "            修改学员\n",
    "            查询学员\n",
    "            显示所有学员\n",
    "            退出系统"
   ]
  },
  {
   "cell_type": "markdown",
   "metadata": {},
   "source": [
    "#### 没有文件保存功能的"
   ]
  },
  {
   "cell_type": "code",
   "execution_count": 6,
   "metadata": {},
   "outputs": [
    {
     "name": "stdout",
     "output_type": "stream",
     "text": [
      "学员管理系统：----------------------\n",
      "1.添加学员\n",
      "2.删除学员\n",
      "3.修改学员\n",
      "4.查询学员\n",
      "5.查询所有学员\n",
      "6.退出系统\n",
      "-----------------------------------\n",
      "退出系统\n"
     ]
    }
   ],
   "source": [
    "# 功能界面\n",
    "def main():\n",
    "    print('学员管理系统：----------------------')\n",
    "    print('1.添加学员')\n",
    "    print('2.删除学员')\n",
    "    print('3.修改学员')\n",
    "    print('4.查询学员')\n",
    "    print('5.查询所有学员')\n",
    "    print('6.退出系统')\n",
    "    print('-----------------------------------')\n",
    "\n",
    "\n",
    "def wait_for_key():\n",
    "    \"\"\"等待用户输入回车键\"\"\"\n",
    "    input('按回车键继续...')\n",
    "\n",
    "\n",
    "info = [] # 初始化列表存储学员信息\n",
    "\n",
    "\n",
    "def add():\n",
    "    \"\"\"添加学员\"\"\"\n",
    "    # 用户输入：学号、姓名、手机号\n",
    "    print()\n",
    "    new_name = input('请输入学员姓名：')\n",
    "    new_id = input('请输入学员学号：')\n",
    "    new_tel = input('请输入学员电话：')\n",
    "\n",
    "    global info\n",
    "    \n",
    "    # 判断学员是否存在\n",
    "    # 遍历时，i是字典，i['name']是字典的键值对\n",
    "    for i in info:\n",
    "        if i['name'] == new_name:\n",
    "            print('学员已存在')\n",
    "            return  \n",
    "    for i in info:\n",
    "        if i['id'] == new_id:\n",
    "            print('学号已存在')\n",
    "            return\n",
    "    for i in info:\n",
    "        if i['tel'] == new_tel:\n",
    "            print('电话已存在')\n",
    "            return\n",
    "\n",
    "    # 添加学员信息\n",
    "    info_temp = {}\n",
    "    info_temp['name'] = new_name\n",
    "    info_temp['id'] = new_id\n",
    "    info_temp['tel'] = new_tel\n",
    "    info.append(info_temp)\n",
    "    print(f'添加成功，新增学员信息：{info_temp}')\n",
    "\n",
    "    wait_for_key()\n",
    "\n",
    "\n",
    "def delete():\n",
    "    \"\"\"删除学员\"\"\"\n",
    "    print()\n",
    "    global info # 声明info为全局变量\n",
    "    num_del = int(input('通过查询 1.学员姓名 2.学号 3.手机号 删除信息：\\n请输入数字:'))\n",
    "    if num_del == 1:\n",
    "        del_name = input('请输入要删除的学员姓名：')       \n",
    "        for i in info:\n",
    "            if i['name'] == del_name:\n",
    "                print(f'删除成功，已删除学员信息：{i}')\n",
    "                info.remove(i)\n",
    "                break\n",
    "            else:\n",
    "                print('该学员不存在')       \n",
    "    elif num_del == 2:\n",
    "        del_id = input('请输入要删除的学员学号：')  \n",
    "        for i in info:\n",
    "            if i['id'] == del_id:\n",
    "                print(f'删除成功，已删除学员信息：{i}')\n",
    "                info.remove(i)\n",
    "                break\n",
    "            else:\n",
    "                print('该学号不存在')       \n",
    "    elif num_del == 3:\n",
    "        del_tel = input('请输入要删除的学员手机号：')     \n",
    "        for i in info:\n",
    "            if i['tel'] == del_tel:\n",
    "                print(f'删除成功，已删除学员信息：{i}')\n",
    "                info.remove(i)\n",
    "                break\n",
    "            else:\n",
    "                print('该手机号不存在')\n",
    "    else:\n",
    "        print('请输入1-3之间的数字')\n",
    "    wait_for_key()       \n",
    "\n",
    "\n",
    "def modify():\n",
    "    \"\"\"修改学员信息\"\"\"\n",
    "    print()\n",
    "    mod_num1 = int(input('修改学员信息\\n查找方式：1.学员姓名 2.学号 3.手机号\\n请输入数字:'))\n",
    "\n",
    "    global info\n",
    "\n",
    "    if mod_num1 == 1:\n",
    "        search_name = input('请输入要查找的学员的姓名：')\n",
    "        for i in info:\n",
    "            if i['name'] == search_name:\n",
    "                print(f'查询到学员信息：{i}')\n",
    "                mod_num2 = int(input('请输入想要修改的信息：1.学员姓名 2.学号 3.手机号\\n请输入数字:'))\n",
    "                if mod_num2 == 1:\n",
    "                    mod_name = input('请输入新的姓名：')\n",
    "                    i['name'] = mod_name\n",
    "                    print(f'修改成功，已修改学员信息：{i}')\n",
    "                    break\n",
    "                if mod_num2 == 2:\n",
    "                    mod_name = input('请输入新的学号：')\n",
    "                    i['id'] = mod_name\n",
    "                    print(f'修改成功，已修改学员信息：{i}')\n",
    "                    break\n",
    "                if mod_num2 == 3:\n",
    "                    mod_name = input('请输入新的手机号：')\n",
    "                    i['tel'] = mod_name\n",
    "                    print(f'修改成功，已修改学员信息：{i}')\n",
    "                    break\n",
    "                else:\n",
    "                    print('请输入1-3之间的数字')\n",
    "                    break\n",
    "            else:\n",
    "                print('该学员不存在')\n",
    "                break\n",
    "\n",
    "    if mod_num1 == 2:\n",
    "        searcch_id = input('请输入要查找的学员的学号：')\n",
    "        for i in info:\n",
    "            if i['id'] == searcch_id:\n",
    "                print(f'查询到学员信息：{i}')\n",
    "                mod_num2 = int(input('请输入想要修改的信息：1.学员姓名 2.学号 3.手机号\\n请输入数字:'))\n",
    "                if mod_num2 == 1:\n",
    "                    mod_name = input('请输入新的姓名：')\n",
    "                    i['name'] = mod_name\n",
    "                    print(f'修改成功，已修改学员信息：{i}')\n",
    "                    break\n",
    "                if mod_num2 == 2:\n",
    "                    mod_name = input('请输入新的学号：')\n",
    "                    i['id'] = mod_name\n",
    "                    print(f'修改成功，已修改学员信息：{i}')\n",
    "                    break\n",
    "                if mod_num2 == 3:\n",
    "                    mod_name = input('请输入新的手机号：')\n",
    "                    i['tel'] = mod_name\n",
    "                    print(f'修改成功，已修改学员信息：{i}')\n",
    "                    break\n",
    "                else:\n",
    "                    print('请输入1-3之间的数字')\n",
    "                    break\n",
    "            else:\n",
    "                print('该学员不存在')\n",
    "                break\n",
    "            \n",
    "    if mod_num1 == 3:\n",
    "        search_tel = input('请输入要查找的学员的手机号：')\n",
    "        for i in info:\n",
    "            if i['tel'] == search_tel:\n",
    "                print(f'查询到学员信息：{i}')\n",
    "                mod_num2 = int(input('请输入想要修改的信息：1.学员姓名 2.学号 3.手机号\\n请输入数字:'))\n",
    "                if mod_num2 == 1:\n",
    "                    mod_name = input('请输入新的姓名：')\n",
    "                    i['name'] = mod_name\n",
    "                    print(f'修改成功，已修改学员信息：{i}')\n",
    "                    break\n",
    "                if mod_num2 == 2:\n",
    "                    mod_name = input('请输入新的学号：')\n",
    "                    i['id'] = mod_name\n",
    "                    print(f'修改成功，已修改学员信息：{i}')\n",
    "                    break\n",
    "                if mod_num2 == 3:\n",
    "                    mod_name = input('请输入新的手机号：')\n",
    "                    i['tel'] = mod_name\n",
    "                    print(f'修改成功，已修改学员信息：{i}')\n",
    "                    break\n",
    "                else:\n",
    "                    print('请输入1-3之间的数字')\n",
    "                    break\n",
    "            else:\n",
    "                print('该学员不存在')\n",
    "                break\n",
    "\n",
    "    else:\n",
    "        print('请输入1-3之间的数字')\n",
    "\n",
    "    wait_for_key()\n",
    "\n",
    "\n",
    "def search():\n",
    "    \"\"\"查询学员信息\"\"\"\n",
    "    print()\n",
    "    search_num = int(input('查询学员信息\\n查找方式：1.学员姓名 2.学号 3.手机号\\n请输入数字:'))\n",
    "    global info\n",
    "    if search_num == 1:\n",
    "        search_name = input('请输入要查找的学员的姓名：')\n",
    "        for i in info:\n",
    "            if i['name'] == search_name:\n",
    "                print(f'查询到学员信息：{i}')\n",
    "                break\n",
    "        else:\n",
    "            print('该学员不存在')\n",
    "    elif search_num == 2:\n",
    "        search_id = input('请输入要查找的学员的学号：')\n",
    "        for i in info:\n",
    "            if i['id'] == search_id:\n",
    "                print(f'查询到学员信息：{i}')\n",
    "                break\n",
    "        else:\n",
    "            print('该学号不存在')\n",
    "    elif search_num == 3:\n",
    "        search_tel = input('请输入要查找的学员的手机号：')\n",
    "        for i in info:\n",
    "            if i['tel'] == search_tel:\n",
    "                print(f'查询到学员信息：{i}')\n",
    "                break\n",
    "        else:\n",
    "            print('该手机号不存在')\n",
    "    else:\n",
    "        print('请输入1-3之间的数字')\n",
    "       \n",
    "    wait_for_key()\n",
    "\n",
    "\n",
    "def print_all():\n",
    "    \"\"\"显示所有学员信息\"\"\"\n",
    "    print()\n",
    "    print('学号\\t姓名\\t手机号')\n",
    "    for i in info:\n",
    "        print(f\"{i['id']}\\t{i['name']}\\t{i['tel']}\")\n",
    "\n",
    "    wait_for_key()\n",
    "    \n",
    "\n",
    "while True:\n",
    "    main() # 显示功能界面\n",
    "    num = int(input('请输入数字选择功能：'))\n",
    "\n",
    "    if num == 1:\n",
    "        add()\n",
    "    elif num == 2:\n",
    "        delete()\n",
    "    elif num == 3:\n",
    "        modify()\n",
    "    elif num == 4:\n",
    "        search()\n",
    "    elif num == 5:\n",
    "        print_all()\n",
    "    elif num == 6:\n",
    "        exit_certify = input('输入yes确认退出系统，按任意键取消')\n",
    "        if exit_certify == 'yes':\n",
    "            print('退出系统')\n",
    "            break\n",
    "        else:\n",
    "            print('继续使用系统')\n",
    "    else:\n",
    "        print('请输入1-6之间的数字\\n')\n",
    "\n"
   ]
  },
  {
   "cell_type": "markdown",
   "metadata": {},
   "source": [
    "#### 有文件保存功能的"
   ]
  },
  {
   "cell_type": "code",
   "execution_count": 7,
   "metadata": {},
   "outputs": [
    {
     "name": "stdout",
     "output_type": "stream",
     "text": [
      "已从 student_info.json 加载 3 条学员数据\n",
      "\n",
      "学员管理系统：----------------------\n",
      "1.添加学员\n",
      "2.删除学员\n",
      "3.修改学员\n",
      "4.查询学员\n",
      "5.查询所有学员\n",
      "6.保存数据\n",
      "7.退出系统\n",
      "-----------------------------------\n",
      "退出系统\n"
     ]
    }
   ],
   "source": [
    "import json\n",
    "DATA_FILE = \"student_info.json\"\n",
    "\n",
    "# 功能界面\n",
    "def main():\n",
    "    print('学员管理系统：----------------------')\n",
    "    print('1.添加学员')\n",
    "    print('2.删除学员')\n",
    "    print('3.修改学员')\n",
    "    print('4.查询学员')\n",
    "    print('5.查询所有学员')\n",
    "    print('6.保存数据')\n",
    "    print('7.退出系统')\n",
    "    print('-----------------------------------')\n",
    "\n",
    "\n",
    "def wait_for_key():\n",
    "    \"\"\"等待用户输入回车键\"\"\"\n",
    "    input('按回车键继续...')\n",
    "\n",
    "\n",
    "info = [] # 初始化列表存储学员信息\n",
    "\n",
    "\n",
    "def save_data():\n",
    "    \"\"\"保存学员信息到文件\"\"\"\n",
    "    global info\n",
    "    try:\n",
    "        with open(DATA_FILE, 'w', encoding='utf-8') as f:\n",
    "            json.dump(info, f, ensure_ascii=False, indent=4)\n",
    "            print(f\"数据已成功保存到 {DATA_FILE}\")\n",
    "    except Exception as e:\n",
    "        print(f\"保存数据时出错: {e}\")\n",
    "        wait_for_key()\n",
    "\n",
    "\n",
    "def load_data():\n",
    "    \"\"\"从文件加载学员信息\"\"\"\n",
    "    global info\n",
    "    try:\n",
    "        with open(DATA_FILE, 'r', encoding='utf-8') as f:\n",
    "            info = json.load(f)\n",
    "            print(f\"已从 {DATA_FILE} 加载 {len(info)} 条学员数据\\n\")\n",
    "    except FileNotFoundError:\n",
    "        print(f\"没有找到数据文件 {DATA_FILE}，将创建新的数据文件\")\n",
    "        info = []  # 如果文件不存在，初始化为空列表\n",
    "    except Exception as e:\n",
    "        print(f\"加载数据时出错: {e}\")\n",
    "        info = []  # 出错时初始化为空列表\n",
    "\n",
    "\n",
    "def add():\n",
    "    \"\"\"添加学员\"\"\"\n",
    "    # 用户输入：学号、姓名、手机号\n",
    "    print()\n",
    "    new_name = input('请输入学员姓名：')\n",
    "    new_id = input('请输入学员学号：')\n",
    "    new_tel = input('请输入学员电话：')\n",
    "\n",
    "    global info\n",
    "    \n",
    "    # 判断学员是否存在\n",
    "    # 遍历时，i是字典，i['name']是字典的键值对\n",
    "    for i in info:\n",
    "        if i['name'] == new_name:\n",
    "            print('学员已存在')\n",
    "            return  \n",
    "    for i in info:\n",
    "        if i['id'] == new_id:\n",
    "            print('学号已存在')\n",
    "            return\n",
    "    for i in info:\n",
    "        if i['tel'] == new_tel:\n",
    "            print('电话已存在')\n",
    "            return\n",
    "\n",
    "    # 添加学员信息\n",
    "    info_temp = {}\n",
    "    info_temp['name'] = new_name\n",
    "    info_temp['id'] = new_id\n",
    "    info_temp['tel'] = new_tel\n",
    "    info.append(info_temp)\n",
    "    print(f'添加成功，新增学员信息：{info_temp}')\n",
    "    print()\n",
    "    save_data()  # 保存数据到文件\n",
    "    wait_for_key()\n",
    "\n",
    "\n",
    "def delete():\n",
    "    \"\"\"删除学员\"\"\"\n",
    "    print()\n",
    "    global info # 声明info为全局变量\n",
    "    num_del = int(input('通过查询 1.学员姓名 2.学号 3.手机号 删除信息：\\n请输入数字:'))\n",
    "    if num_del == 1:\n",
    "        del_name = input('请输入要删除的学员姓名：')       \n",
    "        for i in info:\n",
    "            if i['name'] == del_name:\n",
    "                print(f'删除成功，已删除学员信息：{i}')\n",
    "                info.remove(i)\n",
    "                break\n",
    "            else:\n",
    "                print('该学员不存在')       \n",
    "    elif num_del == 2:\n",
    "        del_id = input('请输入要删除的学员学号：')  \n",
    "        for i in info:\n",
    "            if i['id'] == del_id:\n",
    "                print(f'删除成功，已删除学员信息：{i}')\n",
    "                info.remove(i)\n",
    "                break\n",
    "            else:\n",
    "                print('该学号不存在')       \n",
    "    elif num_del == 3:\n",
    "        del_tel = input('请输入要删除的学员手机号：')     \n",
    "        for i in info:\n",
    "            if i['tel'] == del_tel:\n",
    "                print(f'删除成功，已删除学员信息：{i}')\n",
    "                info.remove(i)\n",
    "                break\n",
    "            else:\n",
    "                print('该手机号不存在')\n",
    "    else:\n",
    "        print('请输入1-3之间的数字')\n",
    "    print()\n",
    "    save_data()  # 保存数据到文件\n",
    "    wait_for_key()\n",
    "\n",
    "\n",
    "def modify():\n",
    "    \"\"\"修改学员信息\"\"\"\n",
    "    print()\n",
    "    mod_num1 = int(input('修改学员信息\\n查找方式：1.学员姓名 2.学号 3.手机号\\n请输入数字:'))\n",
    "\n",
    "    global info\n",
    "\n",
    "    if mod_num1 == 1:\n",
    "        search_name = input('请输入要查找的学员的姓名：')\n",
    "        for i in info:\n",
    "            if i['name'] == search_name:\n",
    "                print(f'查询到学员信息：{i}')\n",
    "                mod_num2 = int(input('请输入想要修改的信息：1.学员姓名 2.学号 3.手机号\\n请输入数字:'))\n",
    "                if mod_num2 == 1:\n",
    "                    mod_name = input('请输入新的姓名：')\n",
    "                    i['name'] = mod_name\n",
    "                    print(f'修改成功，已修改学员信息：{i}')\n",
    "                    break\n",
    "                if mod_num2 == 2:\n",
    "                    mod_name = input('请输入新的学号：')\n",
    "                    i['id'] = mod_name\n",
    "                    print(f'修改成功，已修改学员信息：{i}')\n",
    "                    break\n",
    "                if mod_num2 == 3:\n",
    "                    mod_name = input('请输入新的手机号：')\n",
    "                    i['tel'] = mod_name\n",
    "                    print(f'修改成功，已修改学员信息：{i}')\n",
    "                    break\n",
    "                else:\n",
    "                    print('请输入1-3之间的数字')\n",
    "                    break\n",
    "            else:\n",
    "                print('该学员不存在')\n",
    "                break\n",
    "\n",
    "    if mod_num1 == 2:\n",
    "        searcch_id = input('请输入要查找的学员的学号：')\n",
    "        for i in info:\n",
    "            if i['id'] == searcch_id:\n",
    "                print(f'查询到学员信息：{i}')\n",
    "                mod_num2 = int(input('请输入想要修改的信息：1.学员姓名 2.学号 3.手机号\\n请输入数字:'))\n",
    "                if mod_num2 == 1:\n",
    "                    mod_name = input('请输入新的姓名：')\n",
    "                    i['name'] = mod_name\n",
    "                    print(f'修改成功，已修改学员信息：{i}')\n",
    "                    break\n",
    "                if mod_num2 == 2:\n",
    "                    mod_name = input('请输入新的学号：')\n",
    "                    i['id'] = mod_name\n",
    "                    print(f'修改成功，已修改学员信息：{i}')\n",
    "                    break\n",
    "                if mod_num2 == 3:\n",
    "                    mod_name = input('请输入新的手机号：')\n",
    "                    i['tel'] = mod_name\n",
    "                    print(f'修改成功，已修改学员信息：{i}')\n",
    "                    break\n",
    "                else:\n",
    "                    print('请输入1-3之间的数字')\n",
    "                    break\n",
    "            else:\n",
    "                print('该学员不存在')\n",
    "                break\n",
    "            \n",
    "    if mod_num1 == 3:\n",
    "        search_tel = input('请输入要查找的学员的手机号：')\n",
    "        for i in info:\n",
    "            if i['tel'] == search_tel:\n",
    "                print(f'查询到学员信息：{i}')\n",
    "                mod_num2 = int(input('请输入想要修改的信息：1.学员姓名 2.学号 3.手机号\\n请输入数字:'))\n",
    "                if mod_num2 == 1:\n",
    "                    mod_name = input('请输入新的姓名：')\n",
    "                    i['name'] = mod_name\n",
    "                    print(f'修改成功，已修改学员信息：{i}')\n",
    "                    break\n",
    "                if mod_num2 == 2:\n",
    "                    mod_name = input('请输入新的学号：')\n",
    "                    i['id'] = mod_name\n",
    "                    print(f'修改成功，已修改学员信息：{i}')\n",
    "                    break\n",
    "                if mod_num2 == 3:\n",
    "                    mod_name = input('请输入新的手机号：')\n",
    "                    i['tel'] = mod_name\n",
    "                    print(f'修改成功，已修改学员信息：{i}')\n",
    "                    break\n",
    "                else:\n",
    "                    print('请输入1-3之间的数字')\n",
    "                    break\n",
    "            else:\n",
    "                print('该学员不存在')\n",
    "                break\n",
    "\n",
    "    else:\n",
    "        print('请输入1-3之间的数字')\n",
    "    print()\n",
    "    save_data()  # 保存数据到文件\n",
    "    wait_for_key()\n",
    "\n",
    "\n",
    "def search():\n",
    "    \"\"\"查询学员信息\"\"\"\n",
    "    print()\n",
    "    search_num = int(input('查询学员信息\\n查找方式：1.学员姓名 2.学号 3.手机号\\n请输入数字:'))\n",
    "    global info\n",
    "    if search_num == 1:\n",
    "        search_name = input('请输入要查找的学员的姓名：')\n",
    "        for i in info:\n",
    "            if i['name'] == search_name:\n",
    "                print(f'查询到学员信息：{i}')\n",
    "                break\n",
    "        else:\n",
    "            print('该学员不存在')\n",
    "    elif search_num == 2:\n",
    "        search_id = input('请输入要查找的学员的学号：')\n",
    "        for i in info:\n",
    "            if i['id'] == search_id:\n",
    "                print(f'查询到学员信息：{i}')\n",
    "                break\n",
    "        else:\n",
    "            print('该学号不存在')\n",
    "    elif search_num == 3:\n",
    "        search_tel = input('请输入要查找的学员的手机号：')\n",
    "        for i in info:\n",
    "            if i['tel'] == search_tel:\n",
    "                print(f'查询到学员信息：{i}')\n",
    "                break\n",
    "        else:\n",
    "            print('该手机号不存在')\n",
    "    else:\n",
    "        print('请输入1-3之间的数字')\n",
    "    print()   \n",
    "    wait_for_key()\n",
    "\n",
    "\n",
    "def print_all():\n",
    "    \"\"\"显示所有学员信息\"\"\"\n",
    "    print()\n",
    "    print('姓名\\t学号\\t手机号')\n",
    "    for i in info:\n",
    "        print(f\"{i['name']}\\t{i['id']}\\t{i['tel']}\")\n",
    "    print()\n",
    "    wait_for_key()\n",
    "    \n",
    "\n",
    "while True:\n",
    "    load_data()  # 加载数据\n",
    "    main() # 显示功能界面\n",
    "    num = int(input('请输入数字选择功能：'))\n",
    "\n",
    "    if num == 1:\n",
    "        add()\n",
    "    elif num == 2:\n",
    "        delete()\n",
    "    elif num == 3:\n",
    "        modify()\n",
    "    elif num == 4:\n",
    "        search()\n",
    "    elif num == 5:\n",
    "        print_all()\n",
    "    elif num == 6:\n",
    "        save_data()\n",
    "    elif num == 7:\n",
    "        exit_certify = input('输入yes确认退出系统，按任意键取消')\n",
    "        if exit_certify == 'yes':\n",
    "            print('退出系统')\n",
    "            break\n",
    "        else:\n",
    "            print('继续使用系统')\n",
    "    else:\n",
    "        print('请输入1-6之间的数字')\n",
    "    print()\n",
    "\n"
   ]
  },
  {
   "cell_type": "markdown",
   "metadata": {},
   "source": [
    "#### 递归：函数内部自己调用自己；必须有出口"
   ]
  },
  {
   "cell_type": "code",
   "execution_count": 2,
   "metadata": {},
   "outputs": [
    {
     "name": "stdout",
     "output_type": "stream",
     "text": [
      "6\n"
     ]
    }
   ],
   "source": [
    "# 需求：求数字累加和\n",
    "def sum_numbers(num):\n",
    "    if num == 1:\n",
    "        return 1\n",
    "    # 需要有出口\n",
    "    return num + sum_numbers(num-1)\n",
    "    # 当前数字 + 当前数字-1的累加和\n",
    "\n",
    "result = sum_numbers(3)\n",
    "print(result)"
   ]
  },
  {
   "cell_type": "markdown",
   "metadata": {},
   "source": [
    "#### lambda语法--简化代码（lambda 参数列表：表达式）"
   ]
  },
  {
   "cell_type": "code",
   "execution_count": 1,
   "metadata": {},
   "outputs": [
    {
     "name": "stdout",
     "output_type": "stream",
     "text": [
      "100\n",
      "<function <lambda> at 0x000001EE14A4EAC0>\n",
      "100\n"
     ]
    }
   ],
   "source": [
    "# 当函数只有一个返回值，并且只有一句代码，可以用lambda简化\n",
    "\n",
    "# 原函数：返回值100\n",
    "def fn1():\n",
    "    return 100\n",
    "result = fn1()\n",
    "print(result)\n",
    "\n",
    "# lambda  匿名函数\n",
    "fn2 = lambda: 100\n",
    "print(fn2)  # lambda内存地址，此时并没有调用函数\n",
    "\n",
    "# 100返回值 调用函数\n",
    "print(fn2())\n"
   ]
  },
  {
   "cell_type": "markdown",
   "metadata": {},
   "source": [
    "#### lambda 加法计算"
   ]
  },
  {
   "cell_type": "code",
   "execution_count": 2,
   "metadata": {},
   "outputs": [
    {
     "name": "stdout",
     "output_type": "stream",
     "text": [
      "3\n",
      "5\n"
     ]
    }
   ],
   "source": [
    "# 需求：计算任意两个数字的累加和\n",
    "# 原函数\n",
    "def add(a, b):\n",
    "    return a + b\n",
    "result = add(1, 2)\n",
    "print(result)\n",
    "\n",
    "# lambda\n",
    "fn1 = lambda a, b: a + b\n",
    "print(fn1(2, 3))"
   ]
  },
  {
   "cell_type": "markdown",
   "metadata": {},
   "source": [
    "#### lambda 参数形式"
   ]
  },
  {
   "cell_type": "code",
   "execution_count": 7,
   "metadata": {},
   "outputs": [
    {
     "name": "stdout",
     "output_type": "stream",
     "text": [
      "100\n",
      "hello world\n",
      "130\n",
      "230\n",
      "(10, 20)\n",
      "(10, 20, 30, 40)\n",
      "{'name': 'Python'}\n",
      "{'name': 'Python', 'age': 30}\n"
     ]
    }
   ],
   "source": [
    "# 无参数\n",
    "fn1 = lambda: 100\n",
    "print(fn1())\n",
    "\n",
    "\n",
    "# 一个参数\n",
    "fn2 = lambda a: a\n",
    "print(fn2('hello world'))\n",
    "\n",
    "\n",
    "# 默认参数/缺省参数\n",
    "fn3 = lambda a, b, c=100: a + b + c\n",
    "print(fn3(10, 20))\n",
    "print(fn3(10, 20, 200))\n",
    "\n",
    "\n",
    "# 可变参数：*args\n",
    "fn4 = lambda *args: args\n",
    "print(fn4(10, 20))\n",
    "print(fn4(10, 20, 30, 40))\n",
    "\n",
    "\n",
    "# 可变参数：**kwargs--返回字典\n",
    "fn5 = lambda **kwargs: kwargs\n",
    "print(fn5(name='Python'))\n",
    "print(fn5(name='Python', age=30))\n",
    "\n"
   ]
  },
  {
   "cell_type": "markdown",
   "metadata": {},
   "source": [
    "#### 带判断的lambda"
   ]
  },
  {
   "cell_type": "code",
   "execution_count": 9,
   "metadata": {},
   "outputs": [
    {
     "name": "stdout",
     "output_type": "stream",
     "text": [
      "1000\n"
     ]
    }
   ],
   "source": [
    "# lambda 比大小，谁大返回谁\n",
    "fn1 = lambda a, b: a if a > b else b\n",
    "print(fn1(1000, 500))"
   ]
  },
  {
   "cell_type": "markdown",
   "metadata": {},
   "source": [
    "#### 列表数据排序"
   ]
  },
  {
   "cell_type": "code",
   "execution_count": null,
   "metadata": {},
   "outputs": [
    {
     "name": "stdout",
     "output_type": "stream",
     "text": [
      "[{'name': 'Jack', 'age': 22}, {'name': 'ROSE', 'age': 19}, {'name': 'TOM', 'age': 20}]\n",
      "[{'name': 'TOM', 'age': 20}, {'name': 'ROSE', 'age': 19}, {'name': 'Jack', 'age': 22}]\n",
      "[{'name': 'ROSE', 'age': 19}, {'name': 'TOM', 'age': 20}, {'name': 'Jack', 'age': 22}]\n"
     ]
    }
   ],
   "source": [
    "students = [\n",
    "    {'name': 'TOM', 'age': 20},\n",
    "    {'name': 'ROSE', 'age': 19},\n",
    "    {'name': 'Jack', 'age': 22}\n",
    "]\n",
    "\n",
    "# 排序：列表名.sort(key=lambda..., reverse=True/False)\n",
    "\n",
    "# 1. name key对应的值进行升序排序\n",
    "students.sort(key=lambda x: x['name'])\n",
    "print(students)\n",
    "\n",
    "# 2. name key对应的值进行降序排序--reverse\n",
    "students.sort(key=lambda x: x['name'], reverse=True)\n",
    "print(students)\n",
    "\n",
    "# 3. age key对应的值进行升序排序\n",
    "students.sort(key=lambda x: x['age'])\n",
    "print(students)\n"
   ]
  },
  {
   "cell_type": "markdown",
   "metadata": {},
   "source": [
    "#### 高阶函数--abs，round"
   ]
  },
  {
   "cell_type": "code",
   "execution_count": 12,
   "metadata": {},
   "outputs": [
    {
     "name": "stdout",
     "output_type": "stream",
     "text": [
      "10\n",
      "1\n",
      "2\n",
      "3.0\n",
      "6\n",
      "2\n"
     ]
    }
   ],
   "source": [
    "# abs(): 绝对值\n",
    "print(abs(-10))\n",
    "\n",
    "# round()： 四舍五入\n",
    "print(round(1.2))\n",
    "print(round(1.9))\n",
    "\n",
    "\n",
    "\n",
    "# 需求：任意两个数字，先求绝对值或四舍五入，再求和计算\n",
    "# 写法一\n",
    "def add_num(a, b):\n",
    "    # 绝对值\n",
    "    return abs(a) + abs(b)\n",
    "\n",
    "result = add_num(-1.1, 1.9)\n",
    "print(result)\n",
    "\n",
    "# 写法二：高阶函数:f是第三个参数，用来接收将来传入的函数\n",
    "def sum_num(a, b, f):\n",
    "    return f(a) + f(b)\n",
    "\n",
    "result1 = sum_num(-1, 5, abs)\n",
    "print(result1)\n",
    "\n",
    "result2 = sum_num(1.1, 1.3, round)\n",
    "print(result2)"
   ]
  },
  {
   "cell_type": "markdown",
   "metadata": {},
   "source": [
    "#### 高阶函数--map"
   ]
  },
  {
   "cell_type": "code",
   "execution_count": 17,
   "metadata": {},
   "outputs": [
    {
     "name": "stdout",
     "output_type": "stream",
     "text": [
      "<map object at 0x000001EE14A67F70>\n",
      "[1, 4, 9, 16, 25]\n"
     ]
    }
   ],
   "source": [
    "# map(func,list) 将传入的函数func依次作用于list的每一个元素，返回一个map对象\n",
    "\n",
    "# 需求：将列表中的每个元素都进行2次方计算，返回一个新的列表\n",
    "# 准备列表数据\n",
    "list1 = [1, 2, 3, 4, 5]\n",
    "\n",
    "# 准备2次方计算的函数\n",
    "def func(x):\n",
    "    return x ** 2\n",
    "\n",
    "# 调用map\n",
    "result = map(func, list1)\n",
    "\n",
    "print(result)\n",
    "print(list(result))"
   ]
  },
  {
   "cell_type": "markdown",
   "metadata": {},
   "source": [
    "#### 高阶函数--reduce"
   ]
  },
  {
   "cell_type": "code",
   "execution_count": 20,
   "metadata": {},
   "outputs": [
    {
     "name": "stdout",
     "output_type": "stream",
     "text": [
      "15\n"
     ]
    }
   ],
   "source": [
    "# reduce(func, list) 其中func必须有两个参数，每次func计算的结果继续与下一个元素做累计\n",
    "\n",
    "# 导入模块\n",
    "import functools\n",
    "\n",
    "list1 = [1, 2, 3, 4, 5]\n",
    "\n",
    "# 定义功能函数--加法\n",
    "def func(a, b):\n",
    "    return a + b\n",
    "\n",
    "# 调用reduce，作用：功能函数计算的结果和序列的下一个数据做累计计算\n",
    "result = functools.reduce(func, list1)\n",
    "print(result)"
   ]
  },
  {
   "cell_type": "markdown",
   "metadata": {},
   "source": [
    "#### 高阶函数--filter"
   ]
  },
  {
   "cell_type": "code",
   "execution_count": null,
   "metadata": {},
   "outputs": [
    {
     "name": "stdout",
     "output_type": "stream",
     "text": [
      "<filter object at 0x000001EE14A66F50>\n",
      "[2, 4, 6, 8, 10]\n"
     ]
    }
   ],
   "source": [
    "# filter(func, list) 过滤序列，返回一个filter对象\n",
    "\n",
    "list1 = [1, 2, 3, 4, 5, 6, 7, 8, 9, 10]\n",
    "\n",
    "# 定义功能函数：过滤序列中的偶数\n",
    "def func(x):\n",
    "    return x % 2 == 0 # 此时返回值为True或False\n",
    "\n",
    "# 调用filter\n",
    "result = filter(func, list1)\n",
    "print(result)\n",
    "print(list(result))"
   ]
  },
  {
   "cell_type": "markdown",
   "metadata": {},
   "source": [
    "## 文件操作"
   ]
  },
  {
   "cell_type": "markdown",
   "metadata": {},
   "source": [
    "#### 基本操作"
   ]
  },
  {
   "cell_type": "code",
   "execution_count": null,
   "metadata": {},
   "outputs": [],
   "source": [
    "# 打开 open(name, mode) 其中 name: 文件名 mode: 访问模式\n",
    "f = open('test.txt', 'w')\n",
    "\n",
    "# 读写操作 write() read()\n",
    "f.write('aaa')\n",
    "\n",
    "# 关闭 close()\n",
    "f.close()"
   ]
  },
  {
   "cell_type": "markdown",
   "metadata": {},
   "source": [
    "#### 主要访问模式"
   ]
  },
  {
   "cell_type": "code",
   "execution_count": null,
   "metadata": {},
   "outputs": [],
   "source": [
    "# r: 如果文件不存在，报错；不支持写入操作，表示只读\n",
    "# f = open('test1.txt', 'r')\n",
    "# f = open('test.txt', 'r')\n",
    "# f.write('aa')\n",
    "# f.close()\n",
    "\n",
    "# w：只写, 如果文件不存在，新建文件；执行写入，会覆盖原有内容\n",
    "f = open('test.txt', 'w')\n",
    "f.write('bbb')\n",
    "f.close()\n",
    "\n",
    "# a：追加，如果文件不存在，新建文件；在原有内容基础上，追加新内容\n",
    "f = open('test.txt', 'a')\n",
    "f.write('xyz')\n",
    "f.close()\n",
    "\n",
    "# 访问模式参数可以省略, 如果省略表示访问模式为r\n",
    "f = open('test.txt')\n",
    "f.close()"
   ]
  },
  {
   "cell_type": "markdown",
   "metadata": {},
   "source": [
    "#### 其他访问模式"
   ]
  },
  {
   "cell_type": "code",
   "execution_count": null,
   "metadata": {},
   "outputs": [
    {
     "name": "stdout",
     "output_type": "stream",
     "text": [
      "\n"
     ]
    }
   ],
   "source": [
    "# r+和w+都是可读可写模式，w是只读，r是只写\n",
    "\n",
    "# r+:  r没有该文件则报错; 文件指针在开头，所以能读取出来数据\n",
    "# f = open('test1.txt', 'r+')\n",
    "# f = open('test.txt', 'r+')\n",
    "\n",
    "# w+: 没有该文件会新建文件；w特点：文件指针在开头，用新内容覆盖原内容\n",
    "# f = open('test1.txt', 'w+')\n",
    "# f = open('test.txt', 'w+')\n",
    "\n",
    "# a+:没有该文件会新建文件；文件指针在结尾，无法读取数据(文件指针后面没有数据)\n",
    "f = open('test.txt', 'a+')\n",
    "\n",
    "con = f.read()\n",
    "print(con)\n",
    "\n",
    "f.close()\n",
    "\n",
    "# r，w适合读取和写入操作，a适合追加操作"
   ]
  },
  {
   "cell_type": "markdown",
   "metadata": {},
   "source": [
    "#### 读取函数（read，readlines，readline）"
   ]
  },
  {
   "cell_type": "code",
   "execution_count": 19,
   "metadata": {},
   "outputs": [
    {
     "name": "stdout",
     "output_type": "stream",
     "text": [
      "11111\n",
      "2222\n",
      "['11111\\n', '22222']\n",
      "11111\n",
      "\n",
      "22222\n"
     ]
    }
   ],
   "source": [
    "# 文件名.read(num)：从文件中读取num个字符，不写num表示读取所有字符\n",
    "\n",
    "f = open('test.txt', 'r')\n",
    "\n",
    "# 文件内容如果换行，底层有\\n字节占位\n",
    "# print(f.read())\n",
    "print(f.read(10))\n",
    "\n",
    "f.close()\n",
    "\n",
    "\n",
    "\n",
    "# 文件名.readlines(num)：读取文件所有行，返回列表，num表示读取多少行，不写读取所有行\n",
    "f = open('test.txt', 'r')\n",
    "\n",
    "con = f.readlines()\n",
    "print(con)\n",
    "# readlines会显示换行符\\n\n",
    "f.close()\n",
    "\n",
    "\n",
    "\n",
    "# 文件名.readline(num)：读取文件一行，返回字符串\n",
    "# num表示读取多少字符，不写读取一行，读取后光标在行末尾，且下次再读取不会重置\n",
    "f = open('test.txt', 'r')\n",
    "\n",
    "con = f.readline()\n",
    "print(con)\n",
    "\n",
    "con = f.readline()\n",
    "print(con)\n",
    "# 第二次读取时，光标在第一行的末尾，读取第二行\n",
    "\n",
    "f.close()\n"
   ]
  },
  {
   "cell_type": "markdown",
   "metadata": {},
   "source": [
    "#### seek函数--用于移动文件指针"
   ]
  },
  {
   "cell_type": "code",
   "execution_count": 28,
   "metadata": {},
   "outputs": [
    {
     "name": "stdout",
     "output_type": "stream",
     "text": [
      "111\n",
      "22222\n",
      "\n",
      "11111\n",
      "22222\n"
     ]
    }
   ],
   "source": [
    "# 语法：文件对象.seek(偏移量, 起始位置)，起始位置：0开头1当前2结尾，起始位置可不写，默认为0\n",
    "\n",
    "f = open('test.txt', 'r+')\n",
    "\n",
    "# 改变读取数据开始位置--忽视前两个字符\n",
    "f.seek(2, 0)\n",
    "con = f.read()\n",
    "print(con)\n",
    "# 把文件指针放结尾(无法读取数据)\n",
    "f.seek(0, 2)\n",
    "con = f.read()\n",
    "print(con)\n",
    "\n",
    "# a 改变文件指针位置，做到可以读取出来数据\n",
    "f.seek(0)\n",
    "con = f.read()\n",
    "print(con)\n",
    "\n",
    "f.close()"
   ]
  },
  {
   "cell_type": "markdown",
   "metadata": {},
   "source": [
    "#### 文件备份"
   ]
  },
  {
   "cell_type": "code",
   "execution_count": 29,
   "metadata": {},
   "outputs": [
    {
     "name": "stdout",
     "output_type": "stream",
     "text": [
      "备份文件：test[备份].txt\n"
     ]
    }
   ],
   "source": [
    "# 用户输入文件名  sound.txt\n",
    "old_name = input('请输入您要备份的完整文件名：')\n",
    "\n",
    "\n",
    "# 规划备份文件的名字\n",
    "index = old_name.rfind('.')\n",
    "\n",
    "# 检测是否有效（空文件名无效）\n",
    "if index > 0:\n",
    "    # 提取后缀\n",
    "    postfix = old_name[index:]\n",
    "\n",
    "# 新名字 = 原名字 + '备份' + 后缀\n",
    "new_name = old_name[:index] + '[备份]' + postfix\n",
    "print(f'备份文件：{new_name}')\n",
    "\n",
    "# 备份文件写入数据(数据和原文件一样)\n",
    "# 打开 原文件 和 备份文件\n",
    "old_f = open(old_name, 'rb') # 以二进制方式读取原文件\n",
    "new_f = open(new_name, 'wb') # 以二进制方式写入备份文件\n",
    "# 不确定目标文件大小，循环读取写入\n",
    "while True:\n",
    "    con = old_f.read(1024)\n",
    "    if len(con) == 0:\n",
    "        # 表示读取完成，剩余数据为0，跳出循环\n",
    "        break\n",
    "    new_f.write(con)\n",
    "\n",
    "# 关闭文件\n",
    "old_f.close()\n",
    "new_f.close()"
   ]
  },
  {
   "cell_type": "markdown",
   "metadata": {},
   "source": [
    "#### 文件和文件夹操作"
   ]
  },
  {
   "cell_type": "code",
   "execution_count": null,
   "metadata": {},
   "outputs": [],
   "source": [
    "# 需要os模块\n",
    "import os\n",
    "\n",
    "# rename('原始文件名'，'目标文件名'): 重命名--需要原文件存在\n",
    "# os.rename('1.txt', '10.txt')\n",
    "\n",
    "# remove('文件名'): 删除文件--需要原文件存在\n",
    "# os.remove('10.txt')\n",
    "\n",
    "# mkdir('文件夹名')：创建文件夹--需要文件夹不存在\n",
    "# os.mkdir('aa')\n",
    "\n",
    "# rmdir('文件夹名'): 删除文件夹--需要文件夹是空的\n",
    "# os.rmdir('aa')\n",
    "\n",
    "# getcwd('文件名'): 返回当前文件所在目录路径\n",
    "# print(os.getcwd())\n",
    "\n",
    "# chdir('路径'):改变目录路径\n",
    "# 需求：在aa里面创建bb文件夹: 1. 切换目录到aa，2创建bb\n",
    "# os.chdir('aa')\n",
    "# os.mkdir('bb')\n",
    "\n",
    "# listdir(): 获取某个文件夹下所有文件，返回一个列表，不写默认为当前文件地址\n",
    "# print(os.listdir())\n",
    "# print(os.listdir('aa'))\n",
    "\n",
    "# rename('原始文件夹名'，'目标文件夹名') -- 重命名文件夹  bb重命名为bbbb\n",
    "# os.rename('bb', 'bbbb')"
   ]
  },
  {
   "cell_type": "markdown",
   "metadata": {},
   "source": [
    "#### 批量重命名"
   ]
  },
  {
   "cell_type": "code",
   "execution_count": 37,
   "metadata": {},
   "outputs": [
    {
     "name": "stdout",
     "output_type": "stream",
     "text": [
      "['.idea', 'basic python.ipynb', 'Object oriented.ipynb', 'student_info.json', 'test.ipynb', 'test.txt', 'text.txt']\n"
     ]
    }
   ],
   "source": [
    "import os\n",
    "\n",
    "# 找到所有文件：获取code文件夹的目录列表--listdir()\n",
    "file_list = os.listdir()\n",
    "print(file_list)\n",
    "\n",
    "# 构造名字\n",
    "for i in file_list:\n",
    "    new_name = 'Python_' + i\n",
    "    # 重命名\n",
    "    os.rename(i, new_name)"
   ]
  },
  {
   "cell_type": "markdown",
   "metadata": {},
   "source": [
    "#### 删除上述前缀"
   ]
  },
  {
   "cell_type": "code",
   "execution_count": 38,
   "metadata": {},
   "outputs": [],
   "source": [
    "# 删除前缀\n",
    "file_list = os.listdir()\n",
    "for i in file_list:\n",
    "    num = len('Python_')\n",
    "    new_name = i[num:]\n",
    "# 重命名\n",
    "    os.rename(i, new_name)"
   ]
  }
 ],
 "metadata": {
  "kernelspec": {
   "display_name": "001env",
   "language": "python",
   "name": "python3"
  },
  "language_info": {
   "codemirror_mode": {
    "name": "ipython",
    "version": 3
   },
   "file_extension": ".py",
   "mimetype": "text/x-python",
   "name": "python",
   "nbconvert_exporter": "python",
   "pygments_lexer": "ipython3",
   "version": "3.12.8"
  }
 },
 "nbformat": 4,
 "nbformat_minor": 2
}
